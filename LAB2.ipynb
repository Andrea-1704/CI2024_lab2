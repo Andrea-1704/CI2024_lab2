{
 "cells": [
  {
   "cell_type": "markdown",
   "metadata": {},
   "source": [
    "# LAB 2 Andrea Mirenda s327644"
   ]
  },
  {
   "cell_type": "markdown",
   "metadata": {},
   "source": [
    "The way to install any library using a linux terminal aproach is the following:"
   ]
  },
  {
   "cell_type": "code",
   "execution_count": 1,
   "metadata": {},
   "outputs": [
    {
     "data": {
      "text/plain": [
       "0"
      ]
     },
     "execution_count": 1,
     "metadata": {},
     "output_type": "execute_result"
    }
   ],
   "source": [
    "import os\n",
    "os.system(\"pip install pandas\")"
   ]
  },
  {
   "cell_type": "markdown",
   "metadata": {},
   "source": [
    "Import with predefined python environment"
   ]
  },
  {
   "cell_type": "code",
   "execution_count": 12,
   "metadata": {},
   "outputs": [],
   "source": [
    "import pandas as pd\n",
    "import random\n",
    "import math\n",
    "import numpy as np\n",
    "from icecream import ic\n",
    "from matplotlib import pyplot as plt\n",
    "from itertools import accumulate\n",
    "from itertools import combinations\n",
    "from tqdm.auto import tqdm\n",
    "import geopy.distance\n",
    "from geopy.distance import geodesic"
   ]
  },
  {
   "cell_type": "markdown",
   "metadata": {},
   "source": [
    "# data import\n",
    "We use pandas to import and use the data about the cities.\n",
    "Each city has the coordinates (x and y) which allows us to compute the Euclidean distance between 2 cities."
   ]
  },
  {
   "cell_type": "code",
   "execution_count": 3,
   "metadata": {},
   "outputs": [
    {
     "data": {
      "text/html": [
       "<div>\n",
       "<style scoped>\n",
       "    .dataframe tbody tr th:only-of-type {\n",
       "        vertical-align: middle;\n",
       "    }\n",
       "\n",
       "    .dataframe tbody tr th {\n",
       "        vertical-align: top;\n",
       "    }\n",
       "\n",
       "    .dataframe thead th {\n",
       "        text-align: right;\n",
       "    }\n",
       "</style>\n",
       "<table border=\"1\" class=\"dataframe\">\n",
       "  <thead>\n",
       "    <tr style=\"text-align: right;\">\n",
       "      <th></th>\n",
       "      <th>City</th>\n",
       "      <th>x</th>\n",
       "      <th>y</th>\n",
       "    </tr>\n",
       "  </thead>\n",
       "  <tbody>\n",
       "    <tr>\n",
       "      <th>0</th>\n",
       "      <td>Abilene</td>\n",
       "      <td>32.454514</td>\n",
       "      <td>-99.738147</td>\n",
       "    </tr>\n",
       "    <tr>\n",
       "      <th>1</th>\n",
       "      <td>Akron</td>\n",
       "      <td>41.080456</td>\n",
       "      <td>-81.521429</td>\n",
       "    </tr>\n",
       "    <tr>\n",
       "      <th>2</th>\n",
       "      <td>Albuquerque</td>\n",
       "      <td>35.105552</td>\n",
       "      <td>-106.647388</td>\n",
       "    </tr>\n",
       "    <tr>\n",
       "      <th>3</th>\n",
       "      <td>Alexandria</td>\n",
       "      <td>38.818343</td>\n",
       "      <td>-77.082026</td>\n",
       "    </tr>\n",
       "    <tr>\n",
       "      <th>4</th>\n",
       "      <td>Allen</td>\n",
       "      <td>33.107224</td>\n",
       "      <td>-96.674676</td>\n",
       "    </tr>\n",
       "    <tr>\n",
       "      <th>...</th>\n",
       "      <td>...</td>\n",
       "      <td>...</td>\n",
       "      <td>...</td>\n",
       "    </tr>\n",
       "    <tr>\n",
       "      <th>321</th>\n",
       "      <td>Wichita Falls</td>\n",
       "      <td>33.906699</td>\n",
       "      <td>-98.525854</td>\n",
       "    </tr>\n",
       "    <tr>\n",
       "      <th>322</th>\n",
       "      <td>Wilmington</td>\n",
       "      <td>34.209225</td>\n",
       "      <td>-77.885767</td>\n",
       "    </tr>\n",
       "    <tr>\n",
       "      <th>323</th>\n",
       "      <td>Winston‐Salem</td>\n",
       "      <td>36.103262</td>\n",
       "      <td>-80.260578</td>\n",
       "    </tr>\n",
       "    <tr>\n",
       "      <th>324</th>\n",
       "      <td>Worcester</td>\n",
       "      <td>42.269478</td>\n",
       "      <td>-71.807783</td>\n",
       "    </tr>\n",
       "    <tr>\n",
       "      <th>325</th>\n",
       "      <td>Yonkers</td>\n",
       "      <td>40.945862</td>\n",
       "      <td>-73.867446</td>\n",
       "    </tr>\n",
       "  </tbody>\n",
       "</table>\n",
       "<p>326 rows × 3 columns</p>\n",
       "</div>"
      ],
      "text/plain": [
       "              City          x           y\n",
       "0          Abilene  32.454514  -99.738147\n",
       "1            Akron  41.080456  -81.521429\n",
       "2      Albuquerque  35.105552 -106.647388\n",
       "3       Alexandria  38.818343  -77.082026\n",
       "4            Allen  33.107224  -96.674676\n",
       "..             ...        ...         ...\n",
       "321  Wichita Falls  33.906699  -98.525854\n",
       "322     Wilmington  34.209225  -77.885767\n",
       "323  Winston‐Salem  36.103262  -80.260578\n",
       "324      Worcester  42.269478  -71.807783\n",
       "325        Yonkers  40.945862  -73.867446\n",
       "\n",
       "[326 rows x 3 columns]"
      ]
     },
     "execution_count": 3,
     "metadata": {},
     "output_type": "execute_result"
    }
   ],
   "source": [
    "cities = pd.read_csv('cities/us.csv', header=None, names=['City', 'x', 'y'])\n",
    "cities"
   ]
  },
  {
   "cell_type": "markdown",
   "metadata": {},
   "source": [
    "# Helping function"
   ]
  },
  {
   "cell_type": "markdown",
   "metadata": {},
   "source": [
    "Define a function that extract the coordinates of a given city"
   ]
  },
  {
   "cell_type": "code",
   "execution_count": 21,
   "metadata": {},
   "outputs": [],
   "source": [
    "def find_coordinates(name_city):\n",
    "    x_coordinate = cities.loc[cities['City'] == name_city, 'x'].values[0]\n",
    "    y_coordinate = cities.loc[cities['City'] == name_city, 'y'].values[0]\n",
    "    return (x_coordinate, y_coordinate)"
   ]
  },
  {
   "cell_type": "markdown",
   "metadata": {},
   "source": [
    "Define a function that computes the Euclidian distance between two cities"
   ]
  },
  {
   "cell_type": "code",
   "execution_count": 5,
   "metadata": {},
   "outputs": [],
   "source": [
    "def euclidean_distance_math(coord1, coord2):\n",
    "    x1, y1 = coord1\n",
    "    x2, y2 = coord2\n",
    "    distanza = math.sqrt((x2 - x1) ** 2 + (y2 - y1) ** 2)\n",
    "    return round(distanza, 3)"
   ]
  },
  {
   "cell_type": "markdown",
   "metadata": {},
   "source": [
    "Define the distance using the geopy function for more accurate distance computation:"
   ]
  },
  {
   "cell_type": "code",
   "execution_count": 43,
   "metadata": {},
   "outputs": [],
   "source": [
    "def euclidean_distance(c1, c2):\n",
    "    x1, y1 = c1\n",
    "    x2, y2 = c2\n",
    "    return geopy.distance.geodesic((x1, y1), (x2, y2)).km"
   ]
  },
  {
   "cell_type": "markdown",
   "metadata": {},
   "source": [
    "Define a slightly different one that take as input the name of the cities:"
   ]
  },
  {
   "cell_type": "code",
   "execution_count": 33,
   "metadata": {},
   "outputs": [],
   "source": [
    "#We define the dictionary that contains the link between the city and the coordinates:\n",
    "city_coordinates = cities.set_index('City')[['x', 'y']].apply(tuple, axis=1).to_dict()\n",
    "\n",
    "def euclidean_distance_name(name_c1, name_c2):\n",
    "    c1 = city_coordinates.get(name_c1)\n",
    "    c2 = city_coordinates.get(name_c2)\n",
    "    x1, y1 = c1\n",
    "    x2, y2 = c2\n",
    "    return geopy.distance.geodesic((x1, y1), (x2, y2)).km"
   ]
  },
  {
   "cell_type": "markdown",
   "metadata": {},
   "source": [
    "Function that return the closest city"
   ]
  },
  {
   "cell_type": "code",
   "execution_count": 7,
   "metadata": {},
   "outputs": [],
   "source": [
    "def closest_city(coord, cities_df):\n",
    "    closest_city = None\n",
    "    min_distance = float('inf')\n",
    "    for _, row in cities_df.iterrows():\n",
    "        city_coord = (row['x'], row['y'])\n",
    "        distance = euclidean_distance(coord, city_coord)\n",
    "        \n",
    "        if distance < min_distance:\n",
    "            min_distance = distance\n",
    "            closest_city = row['City']\n",
    "    \n",
    "    return closest_city, round(min_distance, 2)"
   ]
  },
  {
   "cell_type": "markdown",
   "metadata": {},
   "source": [
    "Function that return the n closest cities to a given one. This may be helpful in the case the city we want to explore has already been explored."
   ]
  },
  {
   "cell_type": "code",
   "execution_count": 20,
   "metadata": {},
   "outputs": [],
   "source": [
    "def closest_cities(coord, cities_df, n):\n",
    "    distanze_citta = []\n",
    "    for _, row in cities_df.iterrows():\n",
    "        city_coord = (row['x'], row['y'])\n",
    "        distanza = euclidean_distance(coord, city_coord)\n",
    "        distanze_citta.append((row['City'], round(distanza, 2)))\n",
    "    \n",
    "    distanze_citta_ordinate = sorted(distanze_citta, key=lambda x: x[1])\n",
    "    \n",
    "    return distanze_citta_ordinate[:n]"
   ]
  },
  {
   "cell_type": "markdown",
   "metadata": {},
   "source": [
    "# Simple greedy aproach\n",
    "\n",
    "In this simplified version of the problem we can take account of the cities we have already visited and, until the number of elements inside this set is different from the number of cities of the country considered we simply add the closest city to the last city we visited."
   ]
  },
  {
   "cell_type": "code",
   "execution_count": 22,
   "metadata": {},
   "outputs": [
    {
     "name": "stdout",
     "output_type": "stream",
     "text": [
      "numero di città 326\n",
      "After visiting all the 326 cities the cost was:  48383.32 Km\n"
     ]
    }
   ],
   "source": [
    "# select random city as a starting point\n",
    "starting_city = cities.sample(n=1)['City'].values[0]\n",
    "\n",
    "# mantain a set of cities already visited:\n",
    "visited = set()\n",
    "distance = 0 #euclidean distance computed\n",
    "num_visited = 0\n",
    "num_cities = cities.shape[0]\n",
    "current_city = find_coordinates(starting_city) # current city esplored\n",
    "print(\"numero di città\", num_cities)\n",
    "found = True\n",
    "num_next_cities = int(num_cities/5)\n",
    "\n",
    "# while i did not visited all the cities i keep on visiting:\n",
    "while num_visited<num_cities:\n",
    "    # if we didn't find the closest one and we did not see all the cities yet\n",
    "    # we increase the number of close cities to consider.\n",
    "    if not found:\n",
    "        num_next_cities = num_cities#increase the number of close cities to consider\n",
    "    next_city = None\n",
    "    found = False \n",
    "    #take the list of the first num_next_cities cities:\n",
    "    \n",
    "    closest_ones = closest_cities(current_city, cities, num_next_cities)\n",
    "    for city in closest_ones:\n",
    "        city = city[0]\n",
    "        if city not in visited:\n",
    "            found = True\n",
    "            coordinate_of_next = find_coordinates(city)\n",
    "            distance += euclidean_distance(current_city, coordinate_of_next)\n",
    "            current_city = find_coordinates(city)\n",
    "            num_visited += 1\n",
    "            visited.add(city)\n",
    "            break\n",
    "    #at the end we must end up to the first position:\n",
    "    if num_visited==num_cities:\n",
    "        #compute the distance to go from current city to the first one:\n",
    "        distance += euclidean_distance(current_city, find_coordinates(starting_city))\n",
    "\n",
    "#we visited all the cities with cost distance:\n",
    "print(\"After visiting all the\", len(cities), \"cities the cost was: \", round(distance, 3), \"Km\")    \n",
    "    "
   ]
  },
  {
   "cell_type": "markdown",
   "metadata": {},
   "source": [
    "# improved greedy aproach\n",
    "As a first improvement we may decide to avoid computing each time find_coordinates, by saving into a dict the link between a city and his cordinates."
   ]
  },
  {
   "cell_type": "markdown",
   "metadata": {},
   "source": [
    "We may also decide avoiding to consider at each iterations all the cities, but considering anly the ones we didn't selected yet.\n",
    "However these changes will improve only the computation, but not the final cost as number of kilometers."
   ]
  },
  {
   "cell_type": "markdown",
   "metadata": {},
   "source": [
    "We first define the matrix of distances between cities:"
   ]
  },
  {
   "cell_type": "code",
   "execution_count": 23,
   "metadata": {},
   "outputs": [
    {
     "data": {
      "text/plain": [
       "array([[   0.        , 1881.53104786,  704.042025  , ..., 1835.22890216,\n",
       "        2687.41674749, 2484.63529263],\n",
       "       [1881.53104786,    0.        , 2292.45751903, ...,  563.30186495,\n",
       "         819.10343728,  643.80788986],\n",
       "       [ 704.042025  , 2292.45751903,    0.        , ..., 2386.19222301,\n",
       "        3110.18513959, 2931.95568434],\n",
       "       ...,\n",
       "       [1835.22890216,  563.30186495, 2386.19222301, ...,    0.        ,\n",
       "        1000.02847269,  774.02576714],\n",
       "       [2687.41674749,  819.10343728, 3110.18513959, ..., 1000.02847269,\n",
       "           0.        ,  226.01477872],\n",
       "       [2484.63529263,  643.80788986, 2931.95568434, ...,  774.02576714,\n",
       "         226.01477872,    0.        ]])"
      ]
     },
     "execution_count": 23,
     "metadata": {},
     "output_type": "execute_result"
    }
   ],
   "source": [
    "DIST_MATRIX = np.zeros((len(cities), len(cities)))\n",
    "for c1, c2 in combinations(cities.itertuples(), 2):\n",
    "    DIST_MATRIX[c1.Index, c2.Index] = DIST_MATRIX[c2.Index, c1.Index] = geodesic(\n",
    "        (c1.x, c1.y), (c2.x, c2.y)\n",
    "    ).km\n",
    "DIST_MATRIX"
   ]
  },
  {
   "cell_type": "markdown",
   "metadata": {},
   "source": [
    "We can now change the \"closest_cicties\" method:"
   ]
  },
  {
   "cell_type": "code",
   "execution_count": 25,
   "metadata": {},
   "outputs": [],
   "source": [
    "#create a mapping between index and name of city:\n",
    "city_to_index = {city: idx for idx, city in enumerate(cities['City'])}\n",
    "\n",
    "def closest_cities(city_name, cities_df, n):\n",
    "    city_idx = city_to_index.get(city_name)\n",
    "    # distances to the city:\n",
    "    distances = DIST_MATRIX[city_idx]\n",
    "    # order escluding the same city\n",
    "    nearest_indices = np.argsort(distances)[1:n+1]\n",
    "    # get the name of the cities:\n",
    "    nearest_cities = [(cities.iloc[i]['City'], distances[i]) for i in nearest_indices]\n",
    "    return nearest_cities"
   ]
  },
  {
   "cell_type": "markdown",
   "metadata": {},
   "source": [
    "We can also change the find coordinates method:"
   ]
  },
  {
   "cell_type": "code",
   "execution_count": 26,
   "metadata": {},
   "outputs": [],
   "source": [
    "def find_coordinates(name_city):\n",
    "    return city_coordinates.get(name_city)"
   ]
  },
  {
   "cell_type": "code",
   "execution_count": 27,
   "metadata": {},
   "outputs": [
    {
     "name": "stdout",
     "output_type": "stream",
     "text": [
      "numero di città 326\n",
      "After visiting all the 326 cities the cost was:  48866.871 Km\n"
     ]
    }
   ],
   "source": [
    "# select random city as a starting point\n",
    "starting_city = cities.sample(n=1)['City'].values[0]\n",
    "\n",
    "# mantain a set of cities already visited:\n",
    "visited = set()\n",
    "distance = 0 #euclidean distance computed\n",
    "num_visited = 0\n",
    "num_cities = cities.shape[0]\n",
    "current_city = find_coordinates(starting_city) # current city esplored\n",
    "name_current=starting_city\n",
    "print(\"numero di città\", num_cities)\n",
    "found = True\n",
    "num_next_cities = int(num_cities/5)\n",
    "\n",
    "# while i did not visited all the cities i keep on visiting:\n",
    "while num_visited<num_cities:\n",
    "    # if we didn't find the closest one and we did not see all the cities yet\n",
    "    # we increase the number of close cities to consider.\n",
    "    if not found:\n",
    "        num_next_cities = num_cities#increase the number of close cities to consider\n",
    "    next_city = None\n",
    "    found = False \n",
    "    #take the list of the first num_next_cities cities:\n",
    "    \n",
    "    closest_ones = closest_cities(name_current, cities, num_next_cities)\n",
    "    for city in closest_ones:\n",
    "        city = city[0]\n",
    "        if city not in visited:\n",
    "            found = True\n",
    "            coordinate_of_next = find_coordinates(city)\n",
    "            distance += euclidean_distance(current_city, coordinate_of_next)\n",
    "            current_city = find_coordinates(city)\n",
    "            name_current = city\n",
    "            num_visited += 1\n",
    "            visited.add(city)\n",
    "            break\n",
    "    #at the end we must end up to the first position:\n",
    "    if num_visited==num_cities:\n",
    "        #compute the distance to go from current city to the first one:\n",
    "        distance += euclidean_distance(current_city, find_coordinates(starting_city))\n",
    "\n",
    "#we visited all the cities with cost distance:\n",
    "print(\"After visiting all the\", len(cities), \"cities the cost was: \", round(distance, 3), \"Km\")    \n",
    "    "
   ]
  },
  {
   "cell_type": "markdown",
   "metadata": {},
   "source": [
    "# Hill climbing\n",
    "\n",
    "We can now consider using the hill climbing approach. the representation could be something like a list of cities visited.\n",
    "\n",
    "As a fitness function we may decide to use (number of covered cities, total distance)."
   ]
  },
  {
   "cell_type": "markdown",
   "metadata": {},
   "source": [
    "We consider the solution to be a list of tuple element. The first element of the tuple is the source of the edge, the second is the destination.\n",
    "Each element of this list indicates a new city has been added."
   ]
  },
  {
   "cell_type": "code",
   "execution_count": 34,
   "metadata": {},
   "outputs": [],
   "source": [
    "def fitness(solution):\n",
    "    tot_dist=0\n",
    "    for edge in solution:\n",
    "        tot_dist += euclidean_distance_name(edge[0], edge[1])\n",
    "    \n",
    "    return (len(solution), tot_dist)"
   ]
  },
  {
   "cell_type": "code",
   "execution_count": 85,
   "metadata": {},
   "outputs": [],
   "source": [
    "def fitness(solution):\n",
    "    # Inizializza il set per le città visitate\n",
    "    visited_cities = set()\n",
    "    tot_dist = 0\n",
    "\n",
    "    # Assicurati che ci sia almeno una tupla per evitare errori\n",
    "    if not solution:\n",
    "        return (0, 0)\n",
    "\n",
    "    # La prima città è considerata come punto di partenza\n",
    "    starting_city = solution[0][0]\n",
    "\n",
    "    # Itera attraverso le tuple nella soluzione\n",
    "    for edge in solution:\n",
    "        city1, city2 = edge\n",
    "\n",
    "        # Calcola la distanza tra le città\n",
    "        tot_dist += euclidean_distance_name(city1, city2)\n",
    "\n",
    "        # Controlla se city2 è già stata visitata\n",
    "        if city2 in visited_cities and city2 != starting_city:\n",
    "            return (0, 0)  # Se una città è visitata più di una volta, ritorna (0, 0)\n",
    "\n",
    "        # Aggiungi city2 al set delle città visitate\n",
    "        visited_cities.add(city2)\n",
    "\n",
    "    return (len(solution), tot_dist)  # Restituisci il numero di tuple e la distanza totale\n"
   ]
  },
  {
   "cell_type": "markdown",
   "metadata": {},
   "source": [
    "# tweak function\n",
    "We can imagine having a scrumble mutation in which we simply take some alleles and shuffle differently them. This preserve the constraints of TSP problem (such as each city will be seen only once)."
   ]
  },
  {
   "cell_type": "code",
   "execution_count": 74,
   "metadata": {},
   "outputs": [],
   "source": [
    "def tweak_invert_solution(solution):\n",
    "    # Scegli una posizione casuale nella soluzione\n",
    "    index = random.randint(0, len(solution) - 1)\n",
    "\n",
    "    # Inverti la tupla scelta\n",
    "    selected_edge = solution[index]\n",
    "    inverted_edge = (selected_edge[1], selected_edge[0])  # Inverti\n",
    "\n",
    "    # Crea la nuova soluzione\n",
    "    new_solution = solution[:index] + [inverted_edge]  # Aggiungi tupla invertita\n",
    "\n",
    "    # Aggiorna le tuple successive\n",
    "    for i in range(index + 1, len(solution)):\n",
    "        new_solution.append((new_solution[i - 1][1], solution[i][1]))\n",
    "\n",
    "    return new_solution"
   ]
  },
  {
   "cell_type": "code",
   "execution_count": 89,
   "metadata": {},
   "outputs": [],
   "source": [
    "def hill_climbing_tsp_scramble(initial_solution, distance_matrix, city_to_index, max_iters=1000):\n",
    "    # Distanza iniziale\n",
    "    best_distance = tweak_invert_solution(initial_solution)\n",
    "    best_solution = initial_solution\n",
    "\n",
    "    for _ in range(max_iters):\n",
    "        # Applica la scramble mutation per ottenere una nuova soluzione\n",
    "        new_solution = tweak_invert_solution(best_solution)\n",
    "\n",
    "        fitness_old= fitness(best_distance)\n",
    "        fitness_new= fitness(new_solution)\n",
    "        # Se la nuova soluzione è migliore, aggiornala come soluzione corrente\n",
    "        if fitness_new > fitness_old:\n",
    "            best_solution = new_solution\n",
    "        else:\n",
    "            break  # Se non troviamo miglioramenti, fermiamo la ricerca (massimo locale)\n",
    "\n",
    "    return best_solution\n"
   ]
  },
  {
   "cell_type": "code",
   "execution_count": 90,
   "metadata": {},
   "outputs": [
    {
     "name": "stdout",
     "output_type": "stream",
     "text": [
      "numero di città 326\n",
      "After visiting all the 326 cities the cost was:  (327, np.float64(507.00046638190025)) Km\n",
      "[('Bakersfield', 'Lancaster'), ('Lancaster', 'Palmdale'), ('Palmdale', 'Santa Clarita'), ('Santa Clarita', 'Simi Valley'), ('Simi Valley', 'Thousand Oaks'), ('Thousand Oaks', 'Oxnard'), ('Oxnard', 'San Buenaventura (Ventura)'), ('San Buenaventura (Ventura)', 'Los Angeles'), ('Los Angeles', 'Inglewood'), ('Inglewood', 'Torrance'), ('Torrance', 'Long Beach'), ('Long Beach', 'Norwalk'), ('Norwalk', 'Downey'), ('Downey', 'East Los Angeles'), ('East Los Angeles', 'El Monte'), ('El Monte', 'West Covina'), ('West Covina', 'Pomona'), ('Pomona', 'Ontario'), ('Ontario', 'Rancho Cucamonga'), ('Rancho Cucamonga', 'Fontana'), ('Fontana', 'Rialto'), ('Rialto', 'San Bernardino'), ('San Bernardino', 'Jurupa Valley'), ('Jurupa Valley', 'Riverside'), ('Riverside', 'Moreno Valley'), ('Moreno Valley', 'Menifee'), ('Menifee', 'Murrieta'), ('Murrieta', 'Temecula'), ('Temecula', 'Oceanside'), ('Oceanside', 'Carlsbad'), ('Carlsbad', 'Escondido'), ('Escondido', 'San Diego'), ('San Diego', 'El Cajon'), ('El Cajon', 'Chula Vista'), ('Chula Vista', 'Irvine'), ('Irvine', 'Santa Ana'), ('Santa Ana', 'Costa Mesa'), ('Costa Mesa', 'Huntington Beach'), ('Huntington Beach', 'Garden Grove'), ('Garden Grove', 'Anaheim'), ('Anaheim', 'Fullerton'), ('Fullerton', 'Orange'), ('Orange', 'Corona'), ('Corona', 'Pasadena'), ('Pasadena', 'Glendale'), ('Glendale', 'Burbank'), ('Burbank', 'Victorville'), ('Victorville', 'Bakersfield'), ('Bakersfield', 'Visalia'), ('Visalia', 'Clovis'), ('Clovis', 'Fresno'), ('Fresno', 'Modesto'), ('Modesto', 'Stockton'), ('Stockton', 'Antioch'), ('Antioch', 'Fairfield'), ('Fairfield', 'Vacaville'), ('Vacaville', 'Vallejo'), ('Vallejo', 'Richmond'), ('Richmond', 'Berkeley'), ('Berkeley', 'Oakland'), ('Oakland', 'San Francisco'), ('San Francisco', 'Daly City'), ('Daly City', 'San Mateo'), ('San Mateo', 'Hayward'), ('Hayward', 'Fremont'), ('Fremont', 'Sunnyvale'), ('Sunnyvale', 'Santa Clara'), ('Santa Clara', 'San Jose'), ('San Jose', 'Salinas'), ('Salinas', 'Elk Grove'), ('Elk Grove', 'Sacramento'), ('Sacramento', 'Roseville'), ('Roseville', 'Chico'), ('Chico', 'Santa Rosa'), ('Santa Rosa', 'Reno'), ('Reno', 'Sparks'), ('Sparks', 'Nampa'), ('Nampa', 'Meridian'), ('Meridian', 'Boise'), ('Boise', 'Spokane Valley'), ('Spokane Valley', 'Spokane'), ('Spokane', 'Bellevue'), ('Bellevue', 'Renton'), ('Renton', 'Kent'), ('Kent', 'Federal Way'), ('Federal Way', 'Tacoma'), ('Tacoma', 'Seattle'), ('Seattle', 'Everett'), ('Everett', 'Vancouver'), ('Vancouver', 'Portland'), ('Portland', 'Gresham'), ('Gresham', 'Hillsboro'), ('Hillsboro', 'Salem'), ('Salem', 'Eugene'), ('Eugene', 'West Valley City'), ('West Valley City', 'West Jordan'), ('West Jordan', 'Salt Lake City'), ('Salt Lake City', 'Provo'), ('Provo', 'North Las Vegas'), ('North Las Vegas', 'Sunrise Manor'), ('Sunrise Manor', 'Paradise'), ('Paradise', 'Enterprise'), ('Enterprise', 'Spring Valley'), ('Spring Valley', 'Las Vegas'), ('Las Vegas', 'Henderson'), ('Henderson', 'Surprise'), ('Surprise', 'Phoenix'), ('Phoenix', 'Tempe'), ('Tempe', 'Chandler'), ('Chandler', 'Gilbert'), ('Gilbert', 'Mesa'), ('Mesa', 'Scottsdale'), ('Scottsdale', 'Tucson'), ('Tucson', 'Las Cruces'), ('Las Cruces', 'El Paso'), ('El Paso', 'Albuquerque'), ('Albuquerque', 'Rio Rancho'), ('Rio Rancho', 'Pueblo'), ('Pueblo', 'Colorado Springs'), ('Colorado Springs', 'Highlands Ranch'), ('Highlands Ranch', 'Centennial'), ('Centennial', 'Denver'), ('Denver', 'Thornton'), ('Thornton', 'Westminster'), ('Westminster', 'Arvada'), ('Arvada', 'Lakewood'), ('Lakewood', 'Boulder'), ('Boulder', 'Greeley'), ('Greeley', 'Fort Collins'), ('Fort Collins', 'Billings'), ('Billings', 'Fargo'), ('Fargo', 'Minneapolis'), ('Minneapolis', 'Saint Paul'), ('Saint Paul', 'Rochester'), ('Rochester', 'Cedar Rapids'), ('Cedar Rapids', 'Davenport'), ('Davenport', 'Peoria'), ('Peoria', 'Springfield'), ('Springfield', 'Saint Louis'), ('Saint Louis', 'Evansville'), ('Evansville', 'Clarksville'), ('Clarksville', 'Nashville'), ('Nashville', 'Murfreesboro'), ('Murfreesboro', 'Huntsville'), ('Huntsville', 'Chattanooga'), ('Chattanooga', 'Sandy Springs'), ('Sandy Springs', 'Atlanta'), ('Atlanta', 'Athens'), ('Athens', 'Macon'), ('Macon', 'Columbus'), ('Columbus', 'Montgomery'), ('Montgomery', 'Birmingham'), ('Birmingham', 'Mobile'), ('Mobile', 'New Orleans'), ('New Orleans', 'Metairie'), ('Metairie', 'Baton Rouge'), ('Baton Rouge', 'Lafayette'), ('Lafayette', 'Beaumont'), ('Beaumont', 'League City'), ('League City', 'Pearland'), ('Pearland', 'Houston'), ('Houston', 'Sugar Land'), ('Sugar Land', 'The Woodlands'), ('The Woodlands', 'College Station'), ('College Station', 'Round Rock'), ('Round Rock', 'Austin'), ('Austin', 'Killeen'), ('Killeen', 'Waco'), ('Waco', 'Grand Prairie'), ('Grand Prairie', 'Irving'), ('Irving', 'Carrollton'), ('Carrollton', 'Lewisville'), ('Lewisville', 'Frisco'), ('Frisco', 'Plano'), ('Plano', 'Allen'), ('Allen', 'McKinney'), ('McKinney', 'Richardson'), ('Richardson', 'Garland'), ('Garland', 'Mesquite'), ('Mesquite', 'Dallas'), ('Dallas', 'Fort Worth'), ('Fort Worth', 'Denton'), ('Denton', 'Wichita Falls'), ('Wichita Falls', 'Norman'), ('Norman', 'Oklahoma City'), ('Oklahoma City', 'Tulsa'), ('Tulsa', 'Broken Arrow'), ('Broken Arrow', 'Wichita'), ('Wichita', 'Topeka'), ('Topeka', 'Olathe'), ('Olathe', 'Overland Park'), ('Overland Park', 'Kansas City'), ('Kansas City', 'Independence'), ('Independence', \"Lee's Summit\"), (\"Lee's Summit\", 'Lincoln'), ('Lincoln', 'Omaha'), ('Omaha', 'Des Moines'), ('Des Moines', 'Sioux Falls'), ('Sioux Falls', 'Madison'), ('Madison', 'Rockford'), ('Rockford', 'Elgin'), ('Elgin', 'Aurora'), ('Aurora', 'Naperville'), ('Naperville', 'Joliet'), ('Joliet', 'Chicago'), ('Chicago', 'South Bend'), ('South Bend', 'Fort Wayne'), ('Fort Wayne', 'Toledo'), ('Toledo', 'Ann Arbor'), ('Ann Arbor', 'Dearborn'), ('Dearborn', 'Detroit'), ('Detroit', 'Warren'), ('Warren', 'Sterling Heights'), ('Sterling Heights', 'Lansing'), ('Lansing', 'Grand Rapids'), ('Grand Rapids', 'Milwaukee'), ('Milwaukee', 'Green Bay'), ('Green Bay', 'Indianapolis'), ('Indianapolis', 'Cincinnati'), ('Cincinnati', 'Dayton'), ('Dayton', 'Lexington'), ('Lexington', 'Louisville'), ('Louisville', 'Knoxville'), ('Knoxville', 'Charlotte'), ('Charlotte', 'Concord'), ('Concord', 'Winston‐Salem'), ('Winston‐Salem', 'High Point'), ('High Point', 'Greensboro'), ('Greensboro', 'Durham'), ('Durham', 'Cary'), ('Cary', 'Raleigh'), ('Raleigh', 'Fayetteville'), ('Fayetteville', 'Wilmington'), ('Wilmington', 'Charleston'), ('Charleston', 'North Charleston'), ('North Charleston', 'Savannah'), ('Savannah', 'Augusta'), ('Augusta', 'Jacksonville'), ('Jacksonville', 'Gainesville'), ('Gainesville', 'Spring Hill'), ('Spring Hill', 'Tampa'), ('Tampa', 'Brandon'), ('Brandon', 'Riverview'), ('Riverview', 'Saint Petersburg'), ('Saint Petersburg', 'Clearwater'), ('Clearwater', 'Lakeland'), ('Lakeland', 'Orlando'), ('Orlando', 'Palm Bay'), ('Palm Bay', 'Port Saint Lucie'), ('Port Saint Lucie', 'West Palm Beach'), ('West Palm Beach', 'Pompano Beach'), ('Pompano Beach', 'Fort Lauderdale'), ('Fort Lauderdale', 'Hollywood'), ('Hollywood', 'Miami Gardens'), ('Miami Gardens', 'Miramar'), ('Miramar', 'Pembroke Pines'), ('Pembroke Pines', 'Davie'), ('Davie', 'Coral Springs'), ('Coral Springs', 'Hialeah'), ('Hialeah', 'Miami'), ('Miami', 'Lehigh Acres'), ('Lehigh Acres', 'Cape Coral'), ('Cape Coral', 'Tallahassee'), ('Tallahassee', 'Jackson'), ('Jackson', 'Memphis'), ('Memphis', 'Little Rock'), ('Little Rock', 'Shreveport'), ('Shreveport', 'Tyler'), ('Tyler', 'Abilene'), ('Abilene', 'Midland'), ('Midland', 'Odessa'), ('Odessa', 'Lubbock'), ('Lubbock', 'Amarillo'), ('Amarillo', 'San Antonio'), ('San Antonio', 'Corpus Christi'), ('Corpus Christi', 'Edinburg'), ('Edinburg', 'McAllen'), ('McAllen', 'Brownsville'), ('Brownsville', 'Laredo'), ('Laredo', 'Roanoke'), ('Roanoke', 'Alexandria'), ('Alexandria', 'Arlington'), ('Arlington', 'Washington'), ('Washington', 'Columbia'), ('Columbia', 'Baltimore'), ('Baltimore', 'Philadelphia'), ('Philadelphia', 'Allentown'), ('Allentown', 'Edison'), ('Edison', 'Elizabeth'), ('Elizabeth', 'Newark'), ('Newark', 'Jersey City'), ('Jersey City', 'New York City'), ('New York City', 'North Hempstead'), ('North Hempstead', 'Oyster Bay'), ('Oyster Bay', 'Stamford'), ('Stamford', 'Yonkers'), ('Yonkers', 'Paterson'), ('Paterson', 'Ramapo'), ('Ramapo', 'Bridgeport'), ('Bridgeport', 'New Haven'), ('New Haven', 'Waterbury'), ('Waterbury', 'Hartford'), ('Hartford', 'Worcester'), ('Worcester', 'Lowell'), ('Lowell', 'Cambridge'), ('Cambridge', 'Boston'), ('Boston', 'Quincy'), ('Quincy', 'Brockton'), ('Brockton', 'Providence'), ('Providence', 'New Bedford'), ('New Bedford', 'Lynn'), ('Lynn', 'Manchester'), ('Manchester', 'Syracuse'), ('Syracuse', 'Amherst'), ('Amherst', 'Buffalo'), ('Buffalo', 'Cleveland'), ('Cleveland', 'Akron'), ('Akron', 'Pittsburgh'), ('Pittsburgh', 'Newport News'), ('Newport News', 'Hampton'), ('Hampton', 'Norfolk'), ('Norfolk', 'Virginia Beach'), ('Virginia Beach', 'Chesapeake'), ('Chesapeake', 'Santa Maria'), ('Santa Maria', 'Anchorage'), ('Anchorage', 'Honolulu'), ('Honolulu', 'Bakersfield')]\n",
      "[('Bakersfield', 'Lancaster'), ('Lancaster', 'Palmdale'), ('Palmdale', 'Santa Clarita'), ('Santa Clarita', 'Simi Valley'), ('Simi Valley', 'Thousand Oaks'), ('Thousand Oaks', 'Oxnard'), ('Oxnard', 'San Buenaventura (Ventura)'), ('San Buenaventura (Ventura)', 'Los Angeles'), ('Los Angeles', 'Inglewood'), ('Inglewood', 'Torrance'), ('Torrance', 'Long Beach'), ('Long Beach', 'Norwalk'), ('Norwalk', 'Downey'), ('Downey', 'East Los Angeles'), ('East Los Angeles', 'El Monte'), ('El Monte', 'West Covina'), ('West Covina', 'Pomona'), ('Pomona', 'Ontario'), ('Ontario', 'Rancho Cucamonga'), ('Rancho Cucamonga', 'Fontana'), ('Fontana', 'Rialto'), ('Rialto', 'San Bernardino'), ('San Bernardino', 'Jurupa Valley'), ('Jurupa Valley', 'Riverside'), ('Riverside', 'Moreno Valley'), ('Moreno Valley', 'Menifee'), ('Menifee', 'Murrieta'), ('Murrieta', 'Temecula'), ('Temecula', 'Oceanside'), ('Oceanside', 'Carlsbad'), ('Carlsbad', 'Escondido'), ('Escondido', 'San Diego'), ('San Diego', 'El Cajon'), ('El Cajon', 'Chula Vista'), ('Chula Vista', 'Irvine'), ('Irvine', 'Santa Ana'), ('Santa Ana', 'Costa Mesa'), ('Costa Mesa', 'Huntington Beach'), ('Huntington Beach', 'Garden Grove'), ('Garden Grove', 'Anaheim'), ('Anaheim', 'Fullerton'), ('Fullerton', 'Orange'), ('Orange', 'Corona'), ('Corona', 'Pasadena'), ('Pasadena', 'Glendale'), ('Glendale', 'Burbank'), ('Burbank', 'Victorville'), ('Victorville', 'Bakersfield'), ('Bakersfield', 'Visalia'), ('Visalia', 'Clovis'), ('Clovis', 'Fresno'), ('Fresno', 'Modesto'), ('Modesto', 'Stockton'), ('Stockton', 'Antioch'), ('Antioch', 'Fairfield'), ('Fairfield', 'Vacaville'), ('Vacaville', 'Vallejo'), ('Vallejo', 'Richmond'), ('Richmond', 'Berkeley'), ('Berkeley', 'Oakland'), ('Oakland', 'San Francisco'), ('San Francisco', 'Daly City'), ('Daly City', 'San Mateo'), ('San Mateo', 'Hayward'), ('Hayward', 'Fremont'), ('Fremont', 'Sunnyvale'), ('Sunnyvale', 'Santa Clara'), ('Santa Clara', 'San Jose'), ('San Jose', 'Salinas'), ('Salinas', 'Elk Grove'), ('Elk Grove', 'Sacramento'), ('Sacramento', 'Roseville'), ('Roseville', 'Chico'), ('Chico', 'Santa Rosa'), ('Santa Rosa', 'Reno'), ('Reno', 'Sparks'), ('Sparks', 'Nampa'), ('Nampa', 'Meridian'), ('Meridian', 'Boise'), ('Boise', 'Spokane Valley'), ('Spokane Valley', 'Spokane'), ('Spokane', 'Bellevue'), ('Bellevue', 'Renton'), ('Renton', 'Kent'), ('Kent', 'Federal Way'), ('Federal Way', 'Tacoma'), ('Tacoma', 'Seattle'), ('Seattle', 'Everett'), ('Everett', 'Vancouver'), ('Vancouver', 'Portland'), ('Portland', 'Gresham'), ('Gresham', 'Hillsboro'), ('Hillsboro', 'Salem'), ('Salem', 'Eugene'), ('Eugene', 'West Valley City'), ('West Valley City', 'West Jordan'), ('West Jordan', 'Salt Lake City'), ('Salt Lake City', 'Provo'), ('Provo', 'North Las Vegas'), ('North Las Vegas', 'Sunrise Manor'), ('Sunrise Manor', 'Paradise'), ('Paradise', 'Enterprise'), ('Enterprise', 'Spring Valley'), ('Spring Valley', 'Las Vegas'), ('Las Vegas', 'Henderson'), ('Henderson', 'Surprise'), ('Surprise', 'Phoenix'), ('Phoenix', 'Tempe'), ('Tempe', 'Chandler'), ('Chandler', 'Gilbert'), ('Gilbert', 'Mesa'), ('Mesa', 'Scottsdale'), ('Scottsdale', 'Tucson'), ('Tucson', 'Las Cruces'), ('Las Cruces', 'El Paso'), ('El Paso', 'Albuquerque'), ('Albuquerque', 'Rio Rancho'), ('Rio Rancho', 'Pueblo'), ('Pueblo', 'Colorado Springs'), ('Colorado Springs', 'Highlands Ranch'), ('Highlands Ranch', 'Centennial'), ('Centennial', 'Denver'), ('Denver', 'Thornton'), ('Thornton', 'Westminster'), ('Westminster', 'Arvada'), ('Arvada', 'Lakewood'), ('Lakewood', 'Boulder'), ('Boulder', 'Greeley'), ('Greeley', 'Fort Collins'), ('Fort Collins', 'Billings'), ('Billings', 'Fargo'), ('Fargo', 'Minneapolis'), ('Minneapolis', 'Saint Paul'), ('Saint Paul', 'Rochester'), ('Rochester', 'Cedar Rapids'), ('Cedar Rapids', 'Davenport'), ('Davenport', 'Peoria'), ('Peoria', 'Springfield'), ('Springfield', 'Saint Louis'), ('Saint Louis', 'Evansville'), ('Evansville', 'Clarksville'), ('Clarksville', 'Nashville'), ('Nashville', 'Murfreesboro'), ('Murfreesboro', 'Huntsville'), ('Huntsville', 'Chattanooga'), ('Chattanooga', 'Sandy Springs'), ('Sandy Springs', 'Atlanta'), ('Atlanta', 'Athens'), ('Athens', 'Macon'), ('Macon', 'Columbus'), ('Columbus', 'Montgomery'), ('Montgomery', 'Birmingham'), ('Birmingham', 'Mobile'), ('Mobile', 'New Orleans'), ('New Orleans', 'Metairie'), ('Metairie', 'Baton Rouge'), ('Baton Rouge', 'Lafayette'), ('Lafayette', 'Beaumont'), ('Beaumont', 'League City'), ('League City', 'Pearland'), ('Pearland', 'Houston'), ('Houston', 'Sugar Land'), ('Sugar Land', 'The Woodlands'), ('The Woodlands', 'College Station'), ('College Station', 'Round Rock'), ('Round Rock', 'Austin'), ('Austin', 'Killeen'), ('Killeen', 'Waco'), ('Waco', 'Grand Prairie'), ('Grand Prairie', 'Irving'), ('Irving', 'Carrollton'), ('Carrollton', 'Lewisville'), ('Lewisville', 'Frisco'), ('Frisco', 'Plano'), ('Plano', 'Allen'), ('Allen', 'McKinney'), ('McKinney', 'Richardson'), ('Richardson', 'Garland'), ('Garland', 'Mesquite'), ('Mesquite', 'Dallas'), ('Dallas', 'Fort Worth'), ('Fort Worth', 'Denton'), ('Denton', 'Wichita Falls'), ('Wichita Falls', 'Norman'), ('Norman', 'Oklahoma City'), ('Oklahoma City', 'Tulsa'), ('Tulsa', 'Broken Arrow'), ('Broken Arrow', 'Wichita'), ('Wichita', 'Topeka'), ('Topeka', 'Olathe'), ('Olathe', 'Overland Park'), ('Overland Park', 'Kansas City'), ('Kansas City', 'Independence'), ('Independence', \"Lee's Summit\"), (\"Lee's Summit\", 'Lincoln'), ('Lincoln', 'Omaha'), ('Omaha', 'Des Moines'), ('Des Moines', 'Sioux Falls'), ('Sioux Falls', 'Madison'), ('Madison', 'Rockford'), ('Rockford', 'Elgin'), ('Elgin', 'Aurora'), ('Aurora', 'Naperville'), ('Naperville', 'Joliet'), ('Joliet', 'Chicago'), ('Chicago', 'South Bend'), ('South Bend', 'Fort Wayne'), ('Fort Wayne', 'Toledo'), ('Toledo', 'Ann Arbor'), ('Ann Arbor', 'Dearborn'), ('Dearborn', 'Detroit'), ('Detroit', 'Warren'), ('Warren', 'Sterling Heights'), ('Sterling Heights', 'Lansing'), ('Lansing', 'Grand Rapids'), ('Grand Rapids', 'Milwaukee'), ('Milwaukee', 'Green Bay'), ('Green Bay', 'Indianapolis'), ('Indianapolis', 'Cincinnati'), ('Cincinnati', 'Dayton'), ('Dayton', 'Lexington'), ('Lexington', 'Louisville'), ('Louisville', 'Knoxville'), ('Knoxville', 'Charlotte'), ('Charlotte', 'Concord'), ('Concord', 'Winston‐Salem'), ('Winston‐Salem', 'High Point'), ('High Point', 'Greensboro'), ('Greensboro', 'Durham'), ('Durham', 'Cary'), ('Cary', 'Raleigh'), ('Raleigh', 'Fayetteville'), ('Fayetteville', 'Wilmington'), ('Wilmington', 'Charleston'), ('Charleston', 'North Charleston'), ('North Charleston', 'Savannah'), ('Savannah', 'Augusta'), ('Augusta', 'Jacksonville'), ('Jacksonville', 'Gainesville'), ('Gainesville', 'Spring Hill'), ('Spring Hill', 'Tampa'), ('Tampa', 'Brandon'), ('Brandon', 'Riverview'), ('Riverview', 'Saint Petersburg'), ('Saint Petersburg', 'Clearwater'), ('Clearwater', 'Lakeland'), ('Lakeland', 'Orlando'), ('Orlando', 'Palm Bay'), ('Palm Bay', 'Port Saint Lucie'), ('Port Saint Lucie', 'West Palm Beach'), ('West Palm Beach', 'Pompano Beach'), ('Pompano Beach', 'Fort Lauderdale'), ('Fort Lauderdale', 'Hollywood'), ('Hollywood', 'Miami Gardens'), ('Miami Gardens', 'Miramar'), ('Miramar', 'Pembroke Pines'), ('Pembroke Pines', 'Davie'), ('Davie', 'Coral Springs'), ('Coral Springs', 'Hialeah'), ('Hialeah', 'Miami'), ('Miami', 'Lehigh Acres'), ('Lehigh Acres', 'Cape Coral'), ('Cape Coral', 'Tallahassee'), ('Tallahassee', 'Jackson'), ('Jackson', 'Memphis'), ('Memphis', 'Little Rock'), ('Little Rock', 'Shreveport'), ('Shreveport', 'Tyler'), ('Tyler', 'Abilene'), ('Abilene', 'Midland'), ('Midland', 'Odessa'), ('Odessa', 'Lubbock'), ('Lubbock', 'Amarillo'), ('Amarillo', 'San Antonio'), ('San Antonio', 'Corpus Christi'), ('Corpus Christi', 'Edinburg'), ('Edinburg', 'McAllen'), ('McAllen', 'Brownsville'), ('Brownsville', 'Laredo'), ('Laredo', 'Roanoke'), ('Roanoke', 'Alexandria'), ('Alexandria', 'Arlington'), ('Arlington', 'Washington'), ('Washington', 'Columbia'), ('Columbia', 'Baltimore'), ('Baltimore', 'Philadelphia'), ('Philadelphia', 'Allentown'), ('Allentown', 'Edison'), ('Edison', 'Elizabeth'), ('Elizabeth', 'Newark'), ('Newark', 'Jersey City'), ('Jersey City', 'New York City'), ('New York City', 'North Hempstead'), ('North Hempstead', 'Oyster Bay'), ('Oyster Bay', 'Stamford'), ('Stamford', 'Yonkers'), ('Yonkers', 'Paterson'), ('Paterson', 'Ramapo'), ('Ramapo', 'Bridgeport'), ('Bridgeport', 'New Haven'), ('New Haven', 'Waterbury'), ('Waterbury', 'Hartford'), ('Hartford', 'Worcester'), ('Worcester', 'Lowell'), ('Lowell', 'Cambridge'), ('Cambridge', 'Boston'), ('Boston', 'Quincy'), ('Quincy', 'Brockton'), ('Brockton', 'Providence'), ('Providence', 'New Bedford'), ('New Bedford', 'Lynn'), ('Lynn', 'Manchester'), ('Manchester', 'Syracuse'), ('Syracuse', 'Amherst'), ('Amherst', 'Buffalo'), ('Buffalo', 'Cleveland'), ('Cleveland', 'Akron'), ('Akron', 'Pittsburgh'), ('Pittsburgh', 'Newport News'), ('Newport News', 'Hampton'), ('Hampton', 'Norfolk'), ('Norfolk', 'Virginia Beach'), ('Virginia Beach', 'Chesapeake'), ('Chesapeake', 'Santa Maria'), ('Santa Maria', 'Anchorage'), ('Anchorage', 'Honolulu'), ('Honolulu', 'Bakersfield')]\n",
      "After HC:  (327, np.float64(507.00046638190025)) Km\n"
     ]
    }
   ],
   "source": [
    "# select random city as a starting point\n",
    "starting_city = cities.sample(n=1)['City'].values[0]\n",
    "\n",
    "# mantain a set of cities already visited:\n",
    "visited = []\n",
    "distance = 0 #euclidean distance computed\n",
    "num_visited = 0\n",
    "num_cities = cities.shape[0]\n",
    "current_city = find_coordinates(starting_city) # current city esplored\n",
    "name_current=starting_city\n",
    "print(\"numero di città\", num_cities)\n",
    "found = True\n",
    "num_next_cities = int(num_cities/5)\n",
    "\n",
    "# while i did not visited all the cities i keep on visiting:\n",
    "while num_visited<num_cities:\n",
    "    # if we didn't find the closest one and we did not see all the cities yet\n",
    "    # we increase the number of close cities to consider.\n",
    "    if not found:\n",
    "        num_next_cities = num_cities#increase the number of close cities to consider\n",
    "    next_city = None\n",
    "    found = False \n",
    "    #take the list of the first num_next_cities cities:\n",
    "    \n",
    "    closest_ones = closest_cities(name_current, cities, num_next_cities)\n",
    "    for city in closest_ones:\n",
    "        city = city[0]\n",
    "        if all(city != pair[1] for pair in visited):\n",
    "            found = True\n",
    "            coordinate_of_next = find_coordinates(city)\n",
    "            #print(current_city)\n",
    "            #print(coordinate_of_next)\n",
    "            distance += euclidean_distance(current_city, coordinate_of_next)\n",
    "            visited.append((name_current, city))\n",
    "            current_city = coordinate_of_next\n",
    "            name_current = city\n",
    "            num_visited += 1\n",
    "            break\n",
    "    #at the end we must end up to the first position:\n",
    "    if num_visited==num_cities:\n",
    "        #compute the distance to go from current city to the first one:\n",
    "        distance += euclidean_distance(current_city, find_coordinates(starting_city))\n",
    "        visited.append((name_current, starting_city))  # add last tuple to turn to first city\n",
    "\n",
    "#we visited all the cities with cost distance:\n",
    "fitness_old=fitness(visited)\n",
    "print(\"After visiting all the\", len(cities), \"cities the cost was: \", fitness_old, \"Km\")    \n",
    "print(visited)\n",
    "    \n",
    "\n",
    "#now on the solution we apply the hill climbing:\n",
    "final_sol = hill_climbing_tsp_scramble(visited, DIST_MATRIX, city_to_index, 1000)\n",
    "dist = fitness(final_sol)\n",
    "\n",
    "#we visited all the cities with cost distance:\n",
    "print(final_sol)\n",
    "print(\"After HC: \", dist, \"Km\")    \n",
    "    "
   ]
  }
 ],
 "metadata": {
  "kernelspec": {
   "display_name": ".venv",
   "language": "python",
   "name": "python3"
  },
  "language_info": {
   "codemirror_mode": {
    "name": "ipython",
    "version": 3
   },
   "file_extension": ".py",
   "mimetype": "text/x-python",
   "name": "python",
   "nbconvert_exporter": "python",
   "pygments_lexer": "ipython3",
   "version": "3.12.6"
  }
 },
 "nbformat": 4,
 "nbformat_minor": 2
}
