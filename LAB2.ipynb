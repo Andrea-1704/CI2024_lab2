{
 "cells": [
  {
   "cell_type": "markdown",
   "metadata": {},
   "source": [
    "# Andrea Mirenda LAB 2 CI"
   ]
  },
  {
   "cell_type": "code",
   "execution_count": 1,
   "metadata": {},
   "outputs": [
    {
     "name": "stderr",
     "output_type": "stream",
     "text": [
      "c:\\Users\\andrea\\Documents\\Computational Intelligence\\CI\\CI2024_lab2\\.venv\\Lib\\site-packages\\tqdm\\auto.py:21: TqdmWarning: IProgress not found. Please update jupyter and ipywidgets. See https://ipywidgets.readthedocs.io/en/stable/user_install.html\n",
      "  from .autonotebook import tqdm as notebook_tqdm\n"
     ]
    }
   ],
   "source": [
    "import pandas as pd\n",
    "from dataclasses import dataclass\n",
    "from collections import Counter\n",
    "import random\n",
    "import math\n",
    "import numpy as np\n",
    "from icecream import ic\n",
    "from matplotlib import pyplot as plt\n",
    "from itertools import accumulate\n",
    "from itertools import combinations\n",
    "from tqdm.auto import tqdm\n",
    "import geopy.distance\n",
    "from geopy.distance import geodesic\n",
    "import networkx as nx\n",
    "from collections import deque"
   ]
  },
  {
   "cell_type": "markdown",
   "metadata": {},
   "source": [
    "# Dataset import"
   ]
  },
  {
   "cell_type": "code",
   "execution_count": 2,
   "metadata": {},
   "outputs": [
    {
     "data": {
      "text/html": [
       "<div>\n",
       "<style scoped>\n",
       "    .dataframe tbody tr th:only-of-type {\n",
       "        vertical-align: middle;\n",
       "    }\n",
       "\n",
       "    .dataframe tbody tr th {\n",
       "        vertical-align: top;\n",
       "    }\n",
       "\n",
       "    .dataframe thead th {\n",
       "        text-align: right;\n",
       "    }\n",
       "</style>\n",
       "<table border=\"1\" class=\"dataframe\">\n",
       "  <thead>\n",
       "    <tr style=\"text-align: right;\">\n",
       "      <th></th>\n",
       "      <th>name</th>\n",
       "      <th>lat</th>\n",
       "      <th>lon</th>\n",
       "    </tr>\n",
       "  </thead>\n",
       "  <tbody>\n",
       "    <tr>\n",
       "      <th>0</th>\n",
       "      <td>Acheng</td>\n",
       "      <td>45.540000</td>\n",
       "      <td>126.960000</td>\n",
       "    </tr>\n",
       "    <tr>\n",
       "      <th>1</th>\n",
       "      <td>Aksu</td>\n",
       "      <td>41.150000</td>\n",
       "      <td>80.250000</td>\n",
       "    </tr>\n",
       "    <tr>\n",
       "      <th>2</th>\n",
       "      <td>Alaer</td>\n",
       "      <td>40.515556</td>\n",
       "      <td>81.263611</td>\n",
       "    </tr>\n",
       "    <tr>\n",
       "      <th>3</th>\n",
       "      <td>Altay</td>\n",
       "      <td>47.840000</td>\n",
       "      <td>88.130000</td>\n",
       "    </tr>\n",
       "    <tr>\n",
       "      <th>4</th>\n",
       "      <td>Anbu</td>\n",
       "      <td>23.460000</td>\n",
       "      <td>116.680000</td>\n",
       "    </tr>\n",
       "    <tr>\n",
       "      <th>...</th>\n",
       "      <td>...</td>\n",
       "      <td>...</td>\n",
       "      <td>...</td>\n",
       "    </tr>\n",
       "    <tr>\n",
       "      <th>721</th>\n",
       "      <td>Ziyang</td>\n",
       "      <td>30.140000</td>\n",
       "      <td>104.640000</td>\n",
       "    </tr>\n",
       "    <tr>\n",
       "      <th>722</th>\n",
       "      <td>Zoucheng</td>\n",
       "      <td>35.400000</td>\n",
       "      <td>116.966667</td>\n",
       "    </tr>\n",
       "    <tr>\n",
       "      <th>723</th>\n",
       "      <td>Zouxian</td>\n",
       "      <td>35.410000</td>\n",
       "      <td>116.940000</td>\n",
       "    </tr>\n",
       "    <tr>\n",
       "      <th>724</th>\n",
       "      <td>Zunhua</td>\n",
       "      <td>40.183333</td>\n",
       "      <td>117.966667</td>\n",
       "    </tr>\n",
       "    <tr>\n",
       "      <th>725</th>\n",
       "      <td>Zunyi</td>\n",
       "      <td>27.700000</td>\n",
       "      <td>106.920000</td>\n",
       "    </tr>\n",
       "  </tbody>\n",
       "</table>\n",
       "<p>726 rows × 3 columns</p>\n",
       "</div>"
      ],
      "text/plain": [
       "         name        lat         lon\n",
       "0      Acheng  45.540000  126.960000\n",
       "1        Aksu  41.150000   80.250000\n",
       "2       Alaer  40.515556   81.263611\n",
       "3       Altay  47.840000   88.130000\n",
       "4        Anbu  23.460000  116.680000\n",
       "..        ...        ...         ...\n",
       "721    Ziyang  30.140000  104.640000\n",
       "722  Zoucheng  35.400000  116.966667\n",
       "723   Zouxian  35.410000  116.940000\n",
       "724    Zunhua  40.183333  117.966667\n",
       "725     Zunyi  27.700000  106.920000\n",
       "\n",
       "[726 rows x 3 columns]"
      ]
     },
     "execution_count": 2,
     "metadata": {},
     "output_type": "execute_result"
    }
   ],
   "source": [
    "CITIES = pd.read_csv('cities/china.csv', header=None, names=['name', 'lat', 'lon'])\n",
    "CITIES"
   ]
  },
  {
   "cell_type": "code",
   "execution_count": 3,
   "metadata": {},
   "outputs": [],
   "source": [
    "DIST_MATRIX = np.zeros((len(CITIES), len(CITIES)))\n",
    "for c1, c2 in combinations(CITIES.itertuples(), 2):\n",
    "    DIST_MATRIX[c1.Index, c2.Index] = DIST_MATRIX[c2.Index, c1.Index] = geodesic(\n",
    "        (c1.lat, c1.lon), (c2.lat, c2.lon)\n",
    "    ).km"
   ]
  },
  {
   "cell_type": "markdown",
   "metadata": {},
   "source": [
    "# Class for the individuals"
   ]
  },
  {
   "cell_type": "code",
   "execution_count": 6,
   "metadata": {},
   "outputs": [],
   "source": [
    "@dataclass\n",
    "class Individual:\n",
    "    genome: list\n",
    "    fitness : float = None"
   ]
  },
  {
   "cell_type": "markdown",
   "metadata": {},
   "source": [
    "# Greedy algorithm"
   ]
  },
  {
   "cell_type": "code",
   "execution_count": 7,
   "metadata": {},
   "outputs": [],
   "source": [
    "def find_closest(segments, city, visited):\n",
    "    # Filtra i segmenti che contengono 'city' e hanno un'altra città non in 'visited'\n",
    "    candidates = [\n",
    "        (pair, distance) for pair, distance in segments\n",
    "        if city in pair and (other_city := (pair - {city}).pop()) not in visited\n",
    "    ]\n",
    "    if len(candidates)==0:\n",
    "        print(\"errore\")\n",
    "    closest_segment = min(candidates, key=lambda x: x[1])\n",
    "    closest_city = (closest_segment[0] - {city}).pop()\n",
    "    return (int(city), closest_city)"
   ]
  },
  {
   "cell_type": "code",
   "execution_count": 8,
   "metadata": {},
   "outputs": [],
   "source": [
    "def greedy_sol(city, segments):\n",
    "    solution = []\n",
    "    solution.append(city)\n",
    "    visited = []\n",
    "    visited.append(int(city))\n",
    "    while len(visited)<len(CITIES):\n",
    "        _, c1 = find_closest(segments, city, visited)\n",
    "        solution.append(c1)\n",
    "        visited.append(c1)\n",
    "        city=c1\n",
    "    solution.append(solution[0])\n",
    "    \n",
    "    return solution"
   ]
  },
  {
   "cell_type": "code",
   "execution_count": null,
   "metadata": {},
   "outputs": [],
   "source": [
    "starting_city = np.random.randint(0, len(CITIES))\n",
    "segments = [\n",
    "        ({c1, c2}, float(DIST_MATRIX[c1, c2])) for c1, c2 in combinations(range(len(CITIES)), 2)\n",
    "]\n",
    "greedy_result = greedy_sol(starting_city, segments)"
   ]
  },
  {
   "cell_type": "markdown",
   "metadata": {},
   "source": [
    "# Evolutionary algorithm"
   ]
  },
  {
   "cell_type": "markdown",
   "metadata": {},
   "source": [
    "### Fitness definition"
   ]
  },
  {
   "cell_type": "code",
   "execution_count": null,
   "metadata": {},
   "outputs": [],
   "source": [
    "def fitness(solution):\n",
    "    tot_dist=0\n",
    "    for node in range(len(solution)-1):\n",
    "        tot_dist -= DIST_MATRIX[solution[node], solution[node+1]]\n",
    "    return tot_dist"
   ]
  },
  {
   "cell_type": "markdown",
   "metadata": {},
   "source": [
    "### Mutations and Crossover"
   ]
  },
  {
   "cell_type": "markdown",
   "metadata": {},
   "source": [
    "Follows some crossover and mutations functions that have been tested for the final version."
   ]
  },
  {
   "cell_type": "code",
   "execution_count": 10,
   "metadata": {},
   "outputs": [],
   "source": [
    "def inver_over_mutation(parent1):\n",
    "    # Copia del primo genitore come base per il figlio\n",
    "    child = parent1[:]\n",
    "    \n",
    "    # Mantieni il primo nodo identico all'ultimo\n",
    "    start_node = child[0]\n",
    "    end_node = child[-1]\n",
    "\n",
    "    if start_node != end_node:\n",
    "        child.append(start_node)\n",
    "    \n",
    "    # Iterazioni di inversioni casuali\n",
    "    num_inversions = random.randint(1, len(parent1) // 2)  # Numero casuale di inversioni\n",
    "    \n",
    "    for _ in range(num_inversions):\n",
    "        # Seleziona due punti casuali per definire l'intervallo da invertire\n",
    "        i, j = sorted(random.sample(range(1, len(child) - 1), 2))\n",
    "        \n",
    "        # Inversione del sotto-percorso selezionato\n",
    "        child[i:j + 1] = reversed(child[i:j + 1])\n",
    "    \n",
    "    # Assicurati che il figlio sia ciclico (chiudi il ciclo)\n",
    "    if child[-1] != child[0]:\n",
    "        child[-1] = child[0]\n",
    "    \n",
    "    return child"
   ]
  },
  {
   "cell_type": "code",
   "execution_count": null,
   "metadata": {},
   "outputs": [],
   "source": [
    "def scramble_mutation(solution, strength = 0.4):\n",
    "    # use the beta distribution to get a number n considering the strength:\n",
    "    alpha = (1 - strength) * 5 + 1 \n",
    "    beta = strength * 5 + 1\n",
    "    # n between 1 and len(solution)-2\n",
    "    max_n = len(solution) - 2\n",
    "    n = int(1 + (max_n - 2) * random.betavariate(alpha, beta))\n",
    "    indices = random.sample(range(1, len(solution)-3), n) #not the last one nor the first\n",
    "    # shuffle the value of the indices:\n",
    "    valori_da_mescolare = [solution[i] for i in indices]\n",
    "    random.shuffle(valori_da_mescolare)\n",
    "    # Riassegna i valori mescolati agli stessi indici in solution\n",
    "    for i, indice in enumerate(indices):\n",
    "        solution[indice] = valori_da_mescolare[i]\n",
    "    return solution"
   ]
  },
  {
   "cell_type": "code",
   "execution_count": null,
   "metadata": {},
   "outputs": [],
   "source": [
    "def swap_mutation(solution):\n",
    "    index = random.randint(1, len(solution)-3) #not the last one nor the first\n",
    "    index2=index #should be higher\n",
    "    while index2<=index:\n",
    "        index2 = random.randint(1, len(solution)-2)\n",
    "    selected_edge1 = solution[index]\n",
    "    selected_edge2 = solution[index2]\n",
    "    solution[index] = selected_edge2\n",
    "    solution[index2] = selected_edge1\n",
    "    return solution"
   ]
  },
  {
   "cell_type": "code",
   "execution_count": null,
   "metadata": {},
   "outputs": [],
   "source": [
    "def mutate_strength(individual, mutationRate=0.5):\n",
    "    for swapped in range(1,len(individual)-1):\n",
    "        if(random.random() < mutationRate):\n",
    "            swapWith = int(random.random() * len(individual)-1)\n",
    "            \n",
    "            city1 = individual[swapped]\n",
    "            city2 = individual[swapWith]\n",
    "            \n",
    "            individual[swapped] = city2\n",
    "            individual[swapWith] = city1\n",
    "    return individual"
   ]
  },
  {
   "cell_type": "code",
   "execution_count": null,
   "metadata": {},
   "outputs": [],
   "source": [
    "def inver_over_crossover(parent1, parent2):\n",
    "    # Copia del primo genitore, su cui applicheremo le modifiche\n",
    "    child = parent1[:]\n",
    "    \n",
    "    # Selezione di un punto di crossover casuale\n",
    "    crossover_point = random.randint(1, len(parent1) - 2)\n",
    "    \n",
    "    # Segmento dal primo genitore (prima del punto di crossover)\n",
    "    first_segment = parent1[:crossover_point]\n",
    "    \n",
    "    second_segment = []\n",
    "    for city in parent2:\n",
    "        if city not in first_segment:\n",
    "            second_segment.append(city)\n",
    "    \n",
    "    # Combinazione dei segmenti per creare il figlio\n",
    "    child = first_segment + second_segment\n",
    "    \n",
    "    return child"
   ]
  },
  {
   "cell_type": "code",
   "execution_count": null,
   "metadata": {},
   "outputs": [],
   "source": [
    "def crossover_inversion(seq1, seq2):\n",
    "    dim = len(seq1) - 1  \n",
    "    pos1, pos2 = sorted(random.sample(range(dim), 2))\n",
    "\n",
    "    segmento_invertito = seq1[pos1:pos2 + 1][::-1]  \n",
    "    nuovo_figlio = [None] * dim\n",
    "    nuovo_figlio[pos1:pos2 + 1] = segmento_invertito\n",
    "\n",
    "    indice_seq2 = 0\n",
    "    for k in range(dim):\n",
    "        if nuovo_figlio[k] is None:\n",
    "            while seq2[indice_seq2] in nuovo_figlio:\n",
    "                indice_seq2 += 1\n",
    "            nuovo_figlio[k] = seq2[indice_seq2]\n",
    "\n",
    "    nuovo_figlio.append(nuovo_figlio[0])\n",
    "    return nuovo_figlio"
   ]
  },
  {
   "cell_type": "code",
   "execution_count": null,
   "metadata": {},
   "outputs": [],
   "source": [
    "def pmx_crossover(parent1, parent2):\n",
    "    size = len(parent1)\n",
    "    p1, p2 = [-1]*size, [-1]*size\n",
    "\n",
    "    # Select crossover points\n",
    "    cx_point1 = random.randint(0, size - 2)\n",
    "    cx_point2 = random.randint(cx_point1 + 1, size - 1)\n",
    "\n",
    "    # Copy the selected slice from first parent to child\n",
    "    for i in range(cx_point1, cx_point2 + 1):\n",
    "        p1[i] = parent1[i]\n",
    "        p2[i] = parent2[i]\n",
    "\n",
    "    # Map the values from parent1 to parent2 and vice versa\n",
    "    for i in range(cx_point1, cx_point2 + 1):\n",
    "        if parent2[i] not in p1:\n",
    "            v = parent2[i]\n",
    "            while p1[parent1.index(v)] != -1:\n",
    "                v = parent2[parent1.index(v)]\n",
    "            p1[parent1.index(v)] = parent2[i]\n",
    "\n",
    "        if parent1[i] not in p2:\n",
    "            v = parent1[i]\n",
    "            while p2[parent2.index(v)] != -1:\n",
    "                v = parent1[parent2.index(v)]\n",
    "            p2[parent2.index(v)] = parent1[i]\n",
    "\n",
    "    # Fill the remaining positions with corresponding parent genes\n",
    "    for i in range(size):\n",
    "        if p1[i] == -1:\n",
    "            p1[i] = parent2[i]\n",
    "        if p2[i] == -1:\n",
    "            p2[i] = parent1[i]\n",
    "\n",
    "    return p1, p2"
   ]
  },
  {
   "cell_type": "code",
   "execution_count": null,
   "metadata": {},
   "outputs": [],
   "source": [
    "def order_crossover(parent1, parent2):\n",
    "    size = len(parent1)\n",
    "    start, end = sorted([random.randint(0, size - 1) for _ in range(2)])\n",
    "\n",
    "    # Create the child with -1 placeholders\n",
    "    child = [-1] * size\n",
    "\n",
    "    # Copy the crossover segment from parent1 to child\n",
    "    child[start:end + 1] = parent1[start:end + 1]\n",
    "\n",
    "    # Fill remaining positions with parent2 values in the order they appear\n",
    "    p2_index = 0\n",
    "    for i in range(size):\n",
    "        if child[i] == -1:\n",
    "            # Ensure that p2_index stays within bounds of parent2\n",
    "            while p2_index < size and parent2[p2_index] in child:\n",
    "                p2_index += 1\n",
    "            # Now assign the value from parent2 if within bounds\n",
    "            if p2_index < size:\n",
    "                child[i] = parent2[p2_index]\n",
    "\n",
    "    return child"
   ]
  },
  {
   "cell_type": "markdown",
   "metadata": {},
   "source": [
    "### Helping function"
   ]
  },
  {
   "cell_type": "code",
   "execution_count": 12,
   "metadata": {},
   "outputs": [],
   "source": [
    "def create_random_solution():\n",
    "    solution =[i for i in range(len(CITIES))]\n",
    "    np.random.shuffle(solution)\n",
    "    solution.append(solution[0])\n",
    "    return solution"
   ]
  },
  {
   "cell_type": "markdown",
   "metadata": {},
   "source": [
    "Tournament selection"
   ]
  },
  {
   "cell_type": "code",
   "execution_count": 14,
   "metadata": {},
   "outputs": [],
   "source": [
    "def parent_selection(population):\n",
    "    candidates = sorted(np.random.choice(population, int(len(population)/8)), key=lambda e: e.fitness, reverse=True)\n",
    "    return candidates[0]"
   ]
  },
  {
   "cell_type": "markdown",
   "metadata": {},
   "source": [
    "### Simulated annealing "
   ]
  },
  {
   "cell_type": "code",
   "execution_count": 15,
   "metadata": {},
   "outputs": [],
   "source": [
    "def simulated_annealing(solution):\n",
    "    temperatura_iniziale = 100\n",
    "    tasso_riscaldamento = 1.02\n",
    "    it=0\n",
    "\n",
    "    #one out of five approach\n",
    "    miglioramenti_recenti = deque(maxlen=5) \n",
    "    miglioramenti_richiesti = 1  \n",
    "\n",
    "    #stopping criteria:\n",
    "    miglioramenti_recenti_stop = deque(maxlen=1000)\n",
    "    miglioramenti_recenti_stop.append(True)\n",
    "\n",
    "    # Initial solution: greedy one!\n",
    "    x_corrente = solution\n",
    "    costo_corrente = fitness(x_corrente)\n",
    "    best_cost = costo_corrente\n",
    "    best_sol = x_corrente\n",
    "\n",
    "    temperatura = temperatura_iniziale\n",
    "    while it<1_000:\n",
    "        it+=1\n",
    "        # tweak the solution\n",
    "        rn = random.random()\n",
    "        first_time=True\n",
    "        while rn > 0.8 or first_time:\n",
    "            first_time=False\n",
    "            x_nuovo = swap_mutation(x_corrente.copy())\n",
    "            costo_nuovo = fitness(x_nuovo)\n",
    "            rn = random.random()\n",
    "        \n",
    "        # variation of fitness by changing sign\n",
    "        delta_costo = costo_nuovo*(-1) - costo_corrente*(-1) \n",
    "        #we are sure the solution after swap mutation is valid if the previous was it.\n",
    "            \n",
    "        if delta_costo < 0 or (random.random() < math.exp(-delta_costo / temperatura) and delta_costo!=0):\n",
    "            x_corrente = x_nuovo\n",
    "            costo_corrente = costo_nuovo\n",
    "            miglioramenti_recenti.append(True)\n",
    "            miglioramenti_recenti_stop.append(True)\n",
    "            if costo_corrente*(-1) < best_cost*(-1):\n",
    "                best_cost = costo_corrente\n",
    "                best_sol = x_corrente\n",
    "        else:\n",
    "            miglioramenti_recenti.append(False)\n",
    "            miglioramenti_recenti_stop.append(False)\n",
    "\n",
    "        if miglioramenti_recenti.count(True) > miglioramenti_richiesti:\n",
    "            temperatura *= tasso_riscaldamento  # more exploration\n",
    "        if miglioramenti_recenti.count(True) < miglioramenti_richiesti:\n",
    "            temperatura /= tasso_riscaldamento\n",
    "        \n",
    "        if miglioramenti_recenti_stop.count(True)==0: #stop condition\n",
    "            break\n",
    "    return best_sol"
   ]
  },
  {
   "cell_type": "markdown",
   "metadata": {},
   "source": [
    "## EA final implementation"
   ]
  },
  {
   "cell_type": "markdown",
   "metadata": {},
   "source": [
    "Since, sometimes it does not reach the best solution, the idea is to simplify the number of iteration of the code and execute it more time and choose the best result over all the executions."
   ]
  },
  {
   "cell_type": "markdown",
   "metadata": {},
   "source": [
    "In some dataset is better to continue running the instance for a longher time, in others, instead, is better to execute more than once different instances to reach to an optimum solution (it would be better to to it in parallele using thread)."
   ]
  },
  {
   "cell_type": "markdown",
   "metadata": {},
   "source": [
    "To consider all these elements together, we execute the EA algorithm considering the length of the city space."
   ]
  },
  {
   "cell_type": "code",
   "execution_count": 19,
   "metadata": {},
   "outputs": [],
   "source": [
    "def greedy_2(startingcity: int):\n",
    "    visited = np.full(len(CITIES), False)\n",
    "    dist = DIST_MATRIX.copy()\n",
    "    city = startingcity\n",
    "    visited[city] = True\n",
    "    tsp = list()\n",
    "    tsp.append(int(city))\n",
    "    while not np.all(visited):\n",
    "        dist[:, city] = np.inf\n",
    "        closest = np.argmin(dist[city])\n",
    "        visited[closest] = True\n",
    "        city = closest\n",
    "        tsp.append(int(city))\n",
    "    tsp.append(tsp[0])\n",
    "    return tsp\n"
   ]
  },
  {
   "cell_type": "code",
   "execution_count": null,
   "metadata": {},
   "outputs": [
    {
     "name": "stdout",
     "output_type": "stream",
     "text": [
      "sol so far at gen:  0  is:  62079.912299169715\n",
      "sol so far at gen:  50  is:  59888.218409692316\n",
      "sol so far at gen:  100  is:  59725.56372576508\n",
      "sol so far at gen:  150  is:  59367.7272611378\n",
      "sol so far at gen:  200  is:  59291.68308071533\n",
      "sol so far at gen:  250  is:  59167.385887602766\n",
      "sol so far at gen:  300  is:  59043.324817839326\n",
      "sol so far at gen:  350  is:  58875.701144279374\n",
      "sol so far at gen:  400  is:  58799.8644122699\n",
      "sol so far at gen:  450  is:  58683.25035753421\n",
      "sol so far at gen:  500  is:  58585.00078205599\n",
      "sol so far at gen:  550  is:  58585.00078205599\n",
      "sol so far at gen:  600  is:  58521.288634827164\n",
      "sol so far at gen:  650  is:  58480.521028284835\n",
      "sol so far at gen:  700  is:  58249.8020392395\n",
      "sol so far at gen:  750  is:  58038.746999668285\n",
      "sol so far at gen:  800  is:  57978.92624041517\n",
      "sol so far at gen:  850  is:  57978.92624041517\n",
      "sol so far at gen:  900  is:  57859.71469047698\n",
      "sol so far at gen:  950  is:  57853.10931181223\n",
      "sol so far at gen:  1000  is:  57771.881261229646\n",
      "sol so far at gen:  1050  is:  57664.47700627126\n",
      "sol so far at gen:  1100  is:  57564.85276811677\n",
      "sol so far at gen:  1150  is:  57542.02674485898\n",
      "sol so far at gen:  1200  is:  57434.13255675361\n",
      "sol so far at gen:  1250  is:  57379.43590044947\n",
      "sol so far at gen:  1300  is:  57256.439495587954\n",
      "sol so far at gen:  1350  is:  57197.81824595541\n",
      "sol so far at gen:  1400  is:  57116.07546487272\n",
      "sol so far at gen:  1450  is:  57037.35472746364\n",
      "sol so far at gen:  1500  is:  56925.066934820716\n",
      "sol so far at gen:  1550  is:  56797.084716351696\n",
      "sol so far at gen:  1600  is:  56797.084716351696\n",
      "sol so far at gen:  1650  is:  56792.066872958894\n",
      "sol so far at gen:  1700  is:  56759.20465663071\n",
      "sol so far at gen:  1750  is:  56600.51596770019\n",
      "sol so far at gen:  1800  is:  56600.51596770019\n",
      "sol so far at gen:  1850  is:  56577.64155594518\n",
      "sol so far at gen:  1900  is:  56499.897940648916\n",
      "sol so far at gen:  1950  is:  56498.89910086865\n",
      "sol so far at gen:  2000  is:  56498.89910086864\n",
      "sol so far at gen:  2050  is:  56461.45723996686\n",
      "sol so far at gen:  2100  is:  56370.07461325788\n",
      "sol so far at gen:  2150  is:  56337.68879524698\n",
      "sol so far at gen:  2200  is:  56243.25020166518\n",
      "sol so far at gen:  2250  is:  55883.81227183389\n",
      "sol so far at gen:  2300  is:  55838.975249616895\n",
      "sol so far at gen:  2350  is:  55821.70754366925\n",
      "sol so far at gen:  2400  is:  55815.93492072436\n",
      "sol so far at gen:  2450  is:  55804.786690546694\n"
     ]
    },
    {
     "ename": "KeyboardInterrupt",
     "evalue": "",
     "output_type": "error",
     "traceback": [
      "\u001b[1;31m---------------------------------------------------------------------------\u001b[0m",
      "\u001b[1;31mKeyboardInterrupt\u001b[0m                         Traceback (most recent call last)",
      "Cell \u001b[1;32mIn[20], line 71\u001b[0m\n\u001b[0;32m     69\u001b[0m     valore \u001b[38;5;241m=\u001b[39m execute_EA(\u001b[38;5;28;01mTrue\u001b[39;00m,current[\u001b[38;5;241m0\u001b[39m], current[\u001b[38;5;241m1\u001b[39m], current[\u001b[38;5;241m2\u001b[39m]) \n\u001b[0;32m     70\u001b[0m \u001b[38;5;28;01melse\u001b[39;00m:\n\u001b[1;32m---> 71\u001b[0m     valore \u001b[38;5;241m=\u001b[39m \u001b[43mexecute_EA\u001b[49m\u001b[43m(\u001b[49m\u001b[38;5;28;43;01mFalse\u001b[39;49;00m\u001b[43m,\u001b[49m\u001b[43mcurrent\u001b[49m\u001b[43m[\u001b[49m\u001b[38;5;241;43m0\u001b[39;49m\u001b[43m]\u001b[49m\u001b[43m,\u001b[49m\u001b[43m \u001b[49m\u001b[43mcurrent\u001b[49m\u001b[43m[\u001b[49m\u001b[38;5;241;43m1\u001b[39;49m\u001b[43m]\u001b[49m\u001b[43m,\u001b[49m\u001b[43m \u001b[49m\u001b[43mcurrent\u001b[49m\u001b[43m[\u001b[49m\u001b[38;5;241;43m2\u001b[39;49m\u001b[43m]\u001b[49m\u001b[43m)\u001b[49m \n\u001b[0;32m     72\u001b[0m \u001b[38;5;28;01mif\u001b[39;00m valore\u001b[38;5;241m.\u001b[39mfitness \u001b[38;5;241m>\u001b[39m best_fitness:\n\u001b[0;32m     73\u001b[0m     best_fitness \u001b[38;5;241m=\u001b[39m valore\u001b[38;5;241m.\u001b[39mfitness\n",
      "Cell \u001b[1;32mIn[20], line 32\u001b[0m, in \u001b[0;36mexecute_EA\u001b[1;34m(small_db, POPULATION_SIZE, OFFSPRING_SIZE, MAX_GENERATIONS)\u001b[0m\n\u001b[0;32m     30\u001b[0m     o2 \u001b[38;5;241m=\u001b[39m mutate_strength(o\u001b[38;5;241m.\u001b[39mcopy())\n\u001b[0;32m     31\u001b[0m \u001b[38;5;28;01mif\u001b[39;00m np\u001b[38;5;241m.\u001b[39mrandom\u001b[38;5;241m.\u001b[39mrandom()\u001b[38;5;241m<\u001b[39m\u001b[38;5;241m0.05\u001b[39m:\n\u001b[1;32m---> 32\u001b[0m     o3 \u001b[38;5;241m=\u001b[39m \u001b[43msimulated_annealing\u001b[49m\u001b[43m(\u001b[49m\u001b[43mo2\u001b[49m\u001b[38;5;241;43m.\u001b[39;49m\u001b[43mcopy\u001b[49m\u001b[43m(\u001b[49m\u001b[43m)\u001b[49m\u001b[43m)\u001b[49m\n\u001b[0;32m     33\u001b[0m     offspring\u001b[38;5;241m.\u001b[39mappend(Individual(genome\u001b[38;5;241m=\u001b[39mo3, fitness \u001b[38;5;241m=\u001b[39mfitness(o3)))\n\u001b[0;32m     34\u001b[0m offspring\u001b[38;5;241m.\u001b[39mappend(Individual(genome\u001b[38;5;241m=\u001b[39mo2, fitness \u001b[38;5;241m=\u001b[39mfitness(o2)))\n",
      "Cell \u001b[1;32mIn[15], line 21\u001b[0m, in \u001b[0;36msimulated_annealing\u001b[1;34m(solution)\u001b[0m\n\u001b[0;32m     18\u001b[0m best_sol \u001b[38;5;241m=\u001b[39m x_corrente\n\u001b[0;32m     20\u001b[0m temperatura \u001b[38;5;241m=\u001b[39m temperatura_iniziale\n\u001b[1;32m---> 21\u001b[0m \u001b[38;5;28;01mwhile\u001b[39;00m it\u001b[38;5;241m<\u001b[39m\u001b[38;5;241m1_000\u001b[39m:\n\u001b[0;32m     22\u001b[0m     it\u001b[38;5;241m+\u001b[39m\u001b[38;5;241m=\u001b[39m\u001b[38;5;241m1\u001b[39m\n\u001b[0;32m     23\u001b[0m     \u001b[38;5;66;03m# tweak the solution\u001b[39;00m\n",
      "\u001b[1;31mKeyboardInterrupt\u001b[0m: "
     ]
    }
   ],
   "source": [
    "\n",
    "def execute_EA(small_db = False, POPULATION_SIZE=100, OFFSPRING_SIZE=200, MAX_GENERATIONS=200):\n",
    "    segments = [\n",
    "        ({c1, c2}, float(DIST_MATRIX[c1, c2])) for c1, c2 in combinations(range(len(CITIES)), 2)\n",
    "    ]\n",
    "    population = [Individual(simulated_annealing(greedy_sol(random.randint(0, len(CITIES)-1), segments))) for _ in range(int(POPULATION_SIZE))]\n",
    "    # while len(population)<POPULATION_SIZE:\n",
    "    #     population.append(Individual(genome=simulated_annealing(create_random_solution())))\n",
    "    for i in population:\n",
    "        i.fitness = fitness(i.genome)\n",
    "    population.sort(key=lambda i: i.fitness, reverse=True)\n",
    "\n",
    "\n",
    "    for g in range(MAX_GENERATIONS):\n",
    "        offspring = []\n",
    "        for _ in range (OFFSPRING_SIZE):\n",
    "            if np.random.random()<0.4:#mutation probability:\n",
    "                p=parent_selection(population)\n",
    "                if small_db:\n",
    "                    o=swap_mutation(p.genome.copy())\n",
    "                else:\n",
    "                    o=mutate_strength(p.genome.copy())\n",
    "            else:\n",
    "                i1 = parent_selection(population)\n",
    "                i2 = parent_selection(population)\n",
    "                o = crossover_inversion(i1.genome.copy(), i2.genome.copy())\n",
    "            offspring.append(Individual(genome=o, fitness =fitness(o)))\n",
    "            if small_db:\n",
    "                o2 = swap_mutation(o.copy())\n",
    "            else:\n",
    "                o2 = mutate_strength(o.copy())\n",
    "            if np.random.random()<0.05:\n",
    "                o3 = simulated_annealing(o2.copy())\n",
    "                offspring.append(Individual(genome=o3, fitness =fitness(o3)))\n",
    "            offspring.append(Individual(genome=o2, fitness =fitness(o2)))\n",
    "\n",
    "        population.extend(offspring)\n",
    "        population.sort(key=lambda i: i.fitness, reverse=True)\n",
    "        population = population[:POPULATION_SIZE]\n",
    "        if g%50==0:\n",
    "            print(\"sol so far at gen: \", g, \" is: \",fitness(population[0].genome)*(-1))\n",
    "\n",
    "    population.sort(key=lambda i: i.fitness, reverse=True)\n",
    "    population = population[:POPULATION_SIZE]\n",
    "    return population[0]\n",
    "\n",
    "best_fitness = float('inf')*(-1)\n",
    "best_sol = None\n",
    "\n",
    "instances0 = [(100, 200, 20)]\n",
    "instances1 = [(100, 305, 200), (100, 305, 200), (50, 80, 300)]\n",
    "instances2 = [(100, 305, 1_500)]\n",
    "instances3 = [(100, 305, 2_450)]\n",
    "\n",
    "best_fitness = float('-inf')\n",
    "best_sol = None\n",
    "\n",
    "if len(CITIES)<100:\n",
    "    instances=instances1\n",
    "if len(CITIES)<30:\n",
    "    instances=instances0\n",
    "if len(CITIES)>100:\n",
    "    instances=instances2\n",
    "if len(CITIES)>200:\n",
    "    instances=instances3\n",
    "\n",
    "\n",
    "for current in instances:\n",
    "    if len(CITIES)<50:\n",
    "        valore = execute_EA(True,current[0], current[1], current[2]) \n",
    "    else:\n",
    "        valore = execute_EA(False,current[0], current[1], current[2]) \n",
    "    if valore.fitness > best_fitness:\n",
    "        best_fitness = valore.fitness\n",
    "        best_sol = valore.genome\n",
    "\n",
    "print(\"best fitness: \", best_fitness*(-1))\n",
    "print(best_sol)"
   ]
  }
 ],
 "metadata": {
  "kernelspec": {
   "display_name": ".venv",
   "language": "python",
   "name": "python3"
  },
  "language_info": {
   "codemirror_mode": {
    "name": "ipython",
    "version": 3
   },
   "file_extension": ".py",
   "mimetype": "text/x-python",
   "name": "python",
   "nbconvert_exporter": "python",
   "pygments_lexer": "ipython3",
   "version": "3.12.6"
  }
 },
 "nbformat": 4,
 "nbformat_minor": 2
}
