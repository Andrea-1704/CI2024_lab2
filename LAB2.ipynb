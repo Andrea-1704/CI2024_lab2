{
 "cells": [
  {
   "cell_type": "markdown",
   "metadata": {},
   "source": [
    "# LAB 2 Andrea Mirenda s327644"
   ]
  },
  {
   "cell_type": "markdown",
   "metadata": {},
   "source": [
    "The way to install any library using a linux terminal aproach is the following:"
   ]
  },
  {
   "cell_type": "code",
   "execution_count": 25,
   "metadata": {},
   "outputs": [
    {
     "data": {
      "text/plain": [
       "1"
      ]
     },
     "execution_count": 25,
     "metadata": {},
     "output_type": "execute_result"
    }
   ],
   "source": [
    "import os\n",
    "os.system(\"pip install pandas\")"
   ]
  },
  {
   "cell_type": "markdown",
   "metadata": {},
   "source": [
    "Import with predefined python environment"
   ]
  },
  {
   "cell_type": "code",
   "execution_count": 26,
   "metadata": {},
   "outputs": [],
   "source": [
    "import pandas as pd\n",
    "from collections import Counter\n",
    "import random\n",
    "import math\n",
    "import numpy as np\n",
    "from icecream import ic\n",
    "from matplotlib import pyplot as plt\n",
    "from itertools import accumulate\n",
    "from itertools import combinations\n",
    "from tqdm.auto import tqdm\n",
    "import geopy.distance\n",
    "from geopy.distance import geodesic\n",
    "import networkx as nx\n",
    "from collections import deque"
   ]
  },
  {
   "cell_type": "markdown",
   "metadata": {},
   "source": [
    "# data import\n",
    "We use pandas to import and use the data about the cities.\n",
    "Each city has the coordinates (x and y) which allows us to compute the Euclidean distance between 2 cities."
   ]
  },
  {
   "cell_type": "code",
   "execution_count": 27,
   "metadata": {},
   "outputs": [
    {
     "data": {
      "text/html": [
       "<div>\n",
       "<style scoped>\n",
       "    .dataframe tbody tr th:only-of-type {\n",
       "        vertical-align: middle;\n",
       "    }\n",
       "\n",
       "    .dataframe tbody tr th {\n",
       "        vertical-align: top;\n",
       "    }\n",
       "\n",
       "    .dataframe thead th {\n",
       "        text-align: right;\n",
       "    }\n",
       "</style>\n",
       "<table border=\"1\" class=\"dataframe\">\n",
       "  <thead>\n",
       "    <tr style=\"text-align: right;\">\n",
       "      <th></th>\n",
       "      <th>City</th>\n",
       "      <th>x</th>\n",
       "      <th>y</th>\n",
       "    </tr>\n",
       "  </thead>\n",
       "  <tbody>\n",
       "    <tr>\n",
       "      <th>0</th>\n",
       "      <td>Ancona</td>\n",
       "      <td>43.60</td>\n",
       "      <td>13.50</td>\n",
       "    </tr>\n",
       "    <tr>\n",
       "      <th>1</th>\n",
       "      <td>Andria</td>\n",
       "      <td>41.23</td>\n",
       "      <td>16.29</td>\n",
       "    </tr>\n",
       "    <tr>\n",
       "      <th>2</th>\n",
       "      <td>Bari</td>\n",
       "      <td>41.12</td>\n",
       "      <td>16.87</td>\n",
       "    </tr>\n",
       "    <tr>\n",
       "      <th>3</th>\n",
       "      <td>Bergamo</td>\n",
       "      <td>45.70</td>\n",
       "      <td>9.67</td>\n",
       "    </tr>\n",
       "    <tr>\n",
       "      <th>4</th>\n",
       "      <td>Bologna</td>\n",
       "      <td>44.50</td>\n",
       "      <td>11.34</td>\n",
       "    </tr>\n",
       "    <tr>\n",
       "      <th>5</th>\n",
       "      <td>Bolzano</td>\n",
       "      <td>46.50</td>\n",
       "      <td>11.35</td>\n",
       "    </tr>\n",
       "    <tr>\n",
       "      <th>6</th>\n",
       "      <td>Brescia</td>\n",
       "      <td>45.55</td>\n",
       "      <td>10.22</td>\n",
       "    </tr>\n",
       "    <tr>\n",
       "      <th>7</th>\n",
       "      <td>Cagliari</td>\n",
       "      <td>39.22</td>\n",
       "      <td>9.10</td>\n",
       "    </tr>\n",
       "    <tr>\n",
       "      <th>8</th>\n",
       "      <td>Catania</td>\n",
       "      <td>37.50</td>\n",
       "      <td>15.08</td>\n",
       "    </tr>\n",
       "    <tr>\n",
       "      <th>9</th>\n",
       "      <td>Ferrara</td>\n",
       "      <td>44.84</td>\n",
       "      <td>11.61</td>\n",
       "    </tr>\n",
       "    <tr>\n",
       "      <th>10</th>\n",
       "      <td>Florence</td>\n",
       "      <td>43.78</td>\n",
       "      <td>11.24</td>\n",
       "    </tr>\n",
       "    <tr>\n",
       "      <th>11</th>\n",
       "      <td>Foggia</td>\n",
       "      <td>41.47</td>\n",
       "      <td>15.55</td>\n",
       "    </tr>\n",
       "    <tr>\n",
       "      <th>12</th>\n",
       "      <td>Forlì</td>\n",
       "      <td>44.22</td>\n",
       "      <td>12.03</td>\n",
       "    </tr>\n",
       "    <tr>\n",
       "      <th>13</th>\n",
       "      <td>Genoa</td>\n",
       "      <td>44.42</td>\n",
       "      <td>8.93</td>\n",
       "    </tr>\n",
       "    <tr>\n",
       "      <th>14</th>\n",
       "      <td>Giugliano in Campania</td>\n",
       "      <td>40.93</td>\n",
       "      <td>14.19</td>\n",
       "    </tr>\n",
       "    <tr>\n",
       "      <th>15</th>\n",
       "      <td>Latina</td>\n",
       "      <td>41.47</td>\n",
       "      <td>12.89</td>\n",
       "    </tr>\n",
       "    <tr>\n",
       "      <th>16</th>\n",
       "      <td>Leghorn</td>\n",
       "      <td>43.55</td>\n",
       "      <td>10.30</td>\n",
       "    </tr>\n",
       "    <tr>\n",
       "      <th>17</th>\n",
       "      <td>Messina</td>\n",
       "      <td>38.19</td>\n",
       "      <td>15.55</td>\n",
       "    </tr>\n",
       "    <tr>\n",
       "      <th>18</th>\n",
       "      <td>Milan</td>\n",
       "      <td>45.47</td>\n",
       "      <td>9.17</td>\n",
       "    </tr>\n",
       "    <tr>\n",
       "      <th>19</th>\n",
       "      <td>Modena</td>\n",
       "      <td>44.65</td>\n",
       "      <td>10.92</td>\n",
       "    </tr>\n",
       "    <tr>\n",
       "      <th>20</th>\n",
       "      <td>Monza</td>\n",
       "      <td>45.58</td>\n",
       "      <td>9.27</td>\n",
       "    </tr>\n",
       "    <tr>\n",
       "      <th>21</th>\n",
       "      <td>Naples</td>\n",
       "      <td>40.85</td>\n",
       "      <td>14.27</td>\n",
       "    </tr>\n",
       "    <tr>\n",
       "      <th>22</th>\n",
       "      <td>Novara</td>\n",
       "      <td>45.45</td>\n",
       "      <td>8.62</td>\n",
       "    </tr>\n",
       "    <tr>\n",
       "      <th>23</th>\n",
       "      <td>Padua</td>\n",
       "      <td>45.41</td>\n",
       "      <td>11.87</td>\n",
       "    </tr>\n",
       "    <tr>\n",
       "      <th>24</th>\n",
       "      <td>Palermo</td>\n",
       "      <td>38.12</td>\n",
       "      <td>13.36</td>\n",
       "    </tr>\n",
       "    <tr>\n",
       "      <th>25</th>\n",
       "      <td>Parma</td>\n",
       "      <td>44.81</td>\n",
       "      <td>10.32</td>\n",
       "    </tr>\n",
       "    <tr>\n",
       "      <th>26</th>\n",
       "      <td>Perugia</td>\n",
       "      <td>43.11</td>\n",
       "      <td>12.39</td>\n",
       "    </tr>\n",
       "    <tr>\n",
       "      <th>27</th>\n",
       "      <td>Pescara</td>\n",
       "      <td>42.46</td>\n",
       "      <td>14.21</td>\n",
       "    </tr>\n",
       "    <tr>\n",
       "      <th>28</th>\n",
       "      <td>Piacenza</td>\n",
       "      <td>45.06</td>\n",
       "      <td>9.68</td>\n",
       "    </tr>\n",
       "    <tr>\n",
       "      <th>29</th>\n",
       "      <td>Prato</td>\n",
       "      <td>43.89</td>\n",
       "      <td>11.09</td>\n",
       "    </tr>\n",
       "    <tr>\n",
       "      <th>30</th>\n",
       "      <td>Ravenna</td>\n",
       "      <td>44.42</td>\n",
       "      <td>12.21</td>\n",
       "    </tr>\n",
       "    <tr>\n",
       "      <th>31</th>\n",
       "      <td>Reggio di Calabria</td>\n",
       "      <td>38.11</td>\n",
       "      <td>15.65</td>\n",
       "    </tr>\n",
       "    <tr>\n",
       "      <th>32</th>\n",
       "      <td>Reggio nell'Emilia</td>\n",
       "      <td>44.71</td>\n",
       "      <td>10.63</td>\n",
       "    </tr>\n",
       "    <tr>\n",
       "      <th>33</th>\n",
       "      <td>Rimini</td>\n",
       "      <td>44.06</td>\n",
       "      <td>12.57</td>\n",
       "    </tr>\n",
       "    <tr>\n",
       "      <th>34</th>\n",
       "      <td>Rome</td>\n",
       "      <td>41.89</td>\n",
       "      <td>12.50</td>\n",
       "    </tr>\n",
       "    <tr>\n",
       "      <th>35</th>\n",
       "      <td>Salerno</td>\n",
       "      <td>40.68</td>\n",
       "      <td>14.77</td>\n",
       "    </tr>\n",
       "    <tr>\n",
       "      <th>36</th>\n",
       "      <td>Sassari</td>\n",
       "      <td>40.73</td>\n",
       "      <td>8.56</td>\n",
       "    </tr>\n",
       "    <tr>\n",
       "      <th>37</th>\n",
       "      <td>Syracuse</td>\n",
       "      <td>37.07</td>\n",
       "      <td>15.29</td>\n",
       "    </tr>\n",
       "    <tr>\n",
       "      <th>38</th>\n",
       "      <td>Taranto</td>\n",
       "      <td>40.48</td>\n",
       "      <td>17.24</td>\n",
       "    </tr>\n",
       "    <tr>\n",
       "      <th>39</th>\n",
       "      <td>Terni</td>\n",
       "      <td>42.57</td>\n",
       "      <td>12.65</td>\n",
       "    </tr>\n",
       "    <tr>\n",
       "      <th>40</th>\n",
       "      <td>Trento</td>\n",
       "      <td>46.08</td>\n",
       "      <td>11.12</td>\n",
       "    </tr>\n",
       "    <tr>\n",
       "      <th>41</th>\n",
       "      <td>Trieste</td>\n",
       "      <td>45.65</td>\n",
       "      <td>13.77</td>\n",
       "    </tr>\n",
       "    <tr>\n",
       "      <th>42</th>\n",
       "      <td>Turin</td>\n",
       "      <td>45.08</td>\n",
       "      <td>7.68</td>\n",
       "    </tr>\n",
       "    <tr>\n",
       "      <th>43</th>\n",
       "      <td>Venice</td>\n",
       "      <td>45.43</td>\n",
       "      <td>12.33</td>\n",
       "    </tr>\n",
       "    <tr>\n",
       "      <th>44</th>\n",
       "      <td>Verona</td>\n",
       "      <td>45.44</td>\n",
       "      <td>10.99</td>\n",
       "    </tr>\n",
       "    <tr>\n",
       "      <th>45</th>\n",
       "      <td>Vicenza</td>\n",
       "      <td>45.55</td>\n",
       "      <td>11.54</td>\n",
       "    </tr>\n",
       "  </tbody>\n",
       "</table>\n",
       "</div>"
      ],
      "text/plain": [
       "                     City      x      y\n",
       "0                  Ancona  43.60  13.50\n",
       "1                  Andria  41.23  16.29\n",
       "2                    Bari  41.12  16.87\n",
       "3                 Bergamo  45.70   9.67\n",
       "4                 Bologna  44.50  11.34\n",
       "5                 Bolzano  46.50  11.35\n",
       "6                 Brescia  45.55  10.22\n",
       "7                Cagliari  39.22   9.10\n",
       "8                 Catania  37.50  15.08\n",
       "9                 Ferrara  44.84  11.61\n",
       "10               Florence  43.78  11.24\n",
       "11                 Foggia  41.47  15.55\n",
       "12                  Forlì  44.22  12.03\n",
       "13                  Genoa  44.42   8.93\n",
       "14  Giugliano in Campania  40.93  14.19\n",
       "15                 Latina  41.47  12.89\n",
       "16                Leghorn  43.55  10.30\n",
       "17                Messina  38.19  15.55\n",
       "18                  Milan  45.47   9.17\n",
       "19                 Modena  44.65  10.92\n",
       "20                  Monza  45.58   9.27\n",
       "21                 Naples  40.85  14.27\n",
       "22                 Novara  45.45   8.62\n",
       "23                  Padua  45.41  11.87\n",
       "24                Palermo  38.12  13.36\n",
       "25                  Parma  44.81  10.32\n",
       "26                Perugia  43.11  12.39\n",
       "27                Pescara  42.46  14.21\n",
       "28               Piacenza  45.06   9.68\n",
       "29                  Prato  43.89  11.09\n",
       "30                Ravenna  44.42  12.21\n",
       "31     Reggio di Calabria  38.11  15.65\n",
       "32     Reggio nell'Emilia  44.71  10.63\n",
       "33                 Rimini  44.06  12.57\n",
       "34                   Rome  41.89  12.50\n",
       "35                Salerno  40.68  14.77\n",
       "36                Sassari  40.73   8.56\n",
       "37               Syracuse  37.07  15.29\n",
       "38                Taranto  40.48  17.24\n",
       "39                  Terni  42.57  12.65\n",
       "40                 Trento  46.08  11.12\n",
       "41                Trieste  45.65  13.77\n",
       "42                  Turin  45.08   7.68\n",
       "43                 Venice  45.43  12.33\n",
       "44                 Verona  45.44  10.99\n",
       "45                Vicenza  45.55  11.54"
      ]
     },
     "execution_count": 27,
     "metadata": {},
     "output_type": "execute_result"
    }
   ],
   "source": [
    "cities = pd.read_csv('cities/italy.csv', header=None, names=['City', 'x', 'y'])\n",
    "cities"
   ]
  },
  {
   "cell_type": "markdown",
   "metadata": {},
   "source": [
    "# Helping function"
   ]
  },
  {
   "cell_type": "markdown",
   "metadata": {},
   "source": [
    "Define a function that extract the coordinates of a given city"
   ]
  },
  {
   "cell_type": "code",
   "execution_count": 28,
   "metadata": {},
   "outputs": [],
   "source": [
    "def find_coordinates(name_city):\n",
    "    x_coordinate = cities.loc[cities['City'] == name_city, 'x'].values[0]\n",
    "    y_coordinate = cities.loc[cities['City'] == name_city, 'y'].values[0]\n",
    "    return (x_coordinate, y_coordinate)"
   ]
  },
  {
   "cell_type": "markdown",
   "metadata": {},
   "source": [
    "Define a function that computes the Euclidian distance between two cities"
   ]
  },
  {
   "cell_type": "code",
   "execution_count": 29,
   "metadata": {},
   "outputs": [],
   "source": [
    "def euclidean_distance_math(coord1, coord2):\n",
    "    x1, y1 = coord1\n",
    "    x2, y2 = coord2\n",
    "    distanza = math.sqrt((x2 - x1) ** 2 + (y2 - y1) ** 2)\n",
    "    return round(distanza, 3)"
   ]
  },
  {
   "cell_type": "markdown",
   "metadata": {},
   "source": [
    "Define the distance using the geopy function for more accurate distance computation:"
   ]
  },
  {
   "cell_type": "code",
   "execution_count": 30,
   "metadata": {},
   "outputs": [],
   "source": [
    "def euclidean_distance(c1, c2):\n",
    "    x1, y1 = c1\n",
    "    x2, y2 = c2\n",
    "    return geopy.distance.geodesic((x1, y1), (x2, y2)).km"
   ]
  },
  {
   "cell_type": "markdown",
   "metadata": {},
   "source": [
    "Define a slightly different one that take as input the name of the cities:"
   ]
  },
  {
   "cell_type": "code",
   "execution_count": 31,
   "metadata": {},
   "outputs": [],
   "source": [
    "#We define the dictionary that contains the link between the city and the coordinates:\n",
    "city_coordinates = cities.set_index('City')[['x', 'y']].apply(tuple, axis=1).to_dict()\n",
    "\n",
    "def euclidean_distance_name(name_c1, name_c2):\n",
    "    c1 = city_coordinates.get(name_c1)\n",
    "    c2 = city_coordinates.get(name_c2)\n",
    "    x1, y1 = c1\n",
    "    x2, y2 = c2\n",
    "    return geopy.distance.geodesic((x1, y1), (x2, y2)).km"
   ]
  },
  {
   "cell_type": "markdown",
   "metadata": {},
   "source": [
    "Function that return the closest city"
   ]
  },
  {
   "cell_type": "code",
   "execution_count": 32,
   "metadata": {},
   "outputs": [],
   "source": [
    "def closest_city(coord, cities_df):\n",
    "    closest_city = None\n",
    "    min_distance = float('inf')\n",
    "    for _, row in cities_df.iterrows():\n",
    "        city_coord = (row['x'], row['y'])\n",
    "        distance = euclidean_distance(coord, city_coord)\n",
    "        \n",
    "        if distance < min_distance:\n",
    "            min_distance = distance\n",
    "            closest_city = row['City']\n",
    "    \n",
    "    return closest_city, round(min_distance, 2)"
   ]
  },
  {
   "cell_type": "markdown",
   "metadata": {},
   "source": [
    "Function that return the n closest cities to a given one. This may be helpful in the case the city we want to explore has already been explored."
   ]
  },
  {
   "cell_type": "code",
   "execution_count": 33,
   "metadata": {},
   "outputs": [],
   "source": [
    "def closest_cities(coord, cities_df, n):\n",
    "    distanze_citta = []\n",
    "    for _, row in cities_df.iterrows():\n",
    "        city_coord = (row['x'], row['y'])\n",
    "        distanza = euclidean_distance(coord, city_coord)\n",
    "        distanze_citta.append((row['City'], round(distanza, 2)))\n",
    "    \n",
    "    distanze_citta_ordinate = sorted(distanze_citta, key=lambda x: x[1])\n",
    "    \n",
    "    return distanze_citta_ordinate[:n]"
   ]
  },
  {
   "cell_type": "markdown",
   "metadata": {},
   "source": [
    "# Simple greedy aproach\n",
    "\n",
    "In this simplified version of the problem we can take account of the cities we have already visited and, until the number of elements inside this set is different from the number of cities of the country considered we simply add the closest city to the last city we visited."
   ]
  },
  {
   "cell_type": "code",
   "execution_count": 34,
   "metadata": {},
   "outputs": [
    {
     "name": "stdout",
     "output_type": "stream",
     "text": [
      "numero di città 46\n",
      "After visiting all the 46 cities the cost was:  4740.094 Km\n"
     ]
    }
   ],
   "source": [
    "# select random city as a starting point\n",
    "starting_city = cities.sample(n=1)['City'].values[0]\n",
    "\n",
    "# mantain a set of cities already visited:\n",
    "visited = set()\n",
    "distance = 0 #euclidean distance computed\n",
    "num_visited = 0\n",
    "num_cities = cities.shape[0]\n",
    "current_city = find_coordinates(starting_city) # current city esplored\n",
    "print(\"numero di città\", num_cities)\n",
    "found = True\n",
    "num_next_cities = int(num_cities/5)\n",
    "\n",
    "# while i did not visited all the cities i keep on visiting:\n",
    "while num_visited<num_cities:\n",
    "    # if we didn't find the closest one and we did not see all the cities yet\n",
    "    # we increase the number of close cities to consider.\n",
    "    if not found:\n",
    "        num_next_cities = num_cities#increase the number of close cities to consider\n",
    "    next_city = None\n",
    "    found = False \n",
    "    #take the list of the first num_next_cities cities:\n",
    "    \n",
    "    closest_ones = closest_cities(current_city, cities, num_next_cities)\n",
    "    for city in closest_ones:\n",
    "        city = city[0]\n",
    "        if city not in visited:\n",
    "            found = True\n",
    "            coordinate_of_next = find_coordinates(city)\n",
    "            distance += euclidean_distance(current_city, coordinate_of_next)\n",
    "            current_city = find_coordinates(city)\n",
    "            num_visited += 1\n",
    "            visited.add(city)\n",
    "            break\n",
    "    #at the end we must end up to the first position:\n",
    "    if num_visited==num_cities:\n",
    "        #compute the distance to go from current city to the first one:\n",
    "        distance += euclidean_distance(current_city, find_coordinates(starting_city))\n",
    "\n",
    "#we visited all the cities with cost distance:\n",
    "print(\"After visiting all the\", len(cities), \"cities the cost was: \", round(distance, 3), \"Km\")    \n",
    "    "
   ]
  },
  {
   "cell_type": "markdown",
   "metadata": {},
   "source": [
    "# Version 2 greedy aproach\n",
    "As a first improvement we may decide to avoid computing each time find_coordinates, by saving into a dict the link between a city and his cordinates."
   ]
  },
  {
   "cell_type": "markdown",
   "metadata": {},
   "source": [
    "We may also decide avoiding to consider at each iterations all the cities, but considering anly the ones we didn't selected yet.\n",
    "However these changes will improve only the computation, but not the final cost as number of kilometers."
   ]
  },
  {
   "cell_type": "markdown",
   "metadata": {},
   "source": [
    "We first define the matrix of distances between cities:"
   ]
  },
  {
   "cell_type": "code",
   "execution_count": 35,
   "metadata": {},
   "outputs": [],
   "source": [
    "DIST_MATRIX = np.zeros((len(cities), len(cities)))\n",
    "for c1, c2 in combinations(cities.itertuples(), 2):\n",
    "    DIST_MATRIX[c1.Index, c2.Index] = DIST_MATRIX[c2.Index, c1.Index] = geodesic(\n",
    "        (c1.x, c1.y), (c2.x, c2.y)\n",
    "    ).km"
   ]
  },
  {
   "cell_type": "markdown",
   "metadata": {},
   "source": [
    "We can now change the \"closest_cicties\" method:"
   ]
  },
  {
   "cell_type": "code",
   "execution_count": 36,
   "metadata": {},
   "outputs": [],
   "source": [
    "#create a mapping between index and name of city:\n",
    "city_to_index = {city: idx for idx, city in enumerate(cities['City'])}\n",
    "\n",
    "def closest_cities(city_name, cities_df, n):\n",
    "    city_idx = city_to_index.get(city_name)\n",
    "    # distances to the city:\n",
    "    distances = DIST_MATRIX[city_idx]\n",
    "    # order escluding the same city\n",
    "    nearest_indices = np.argsort(distances)[1:n+1]\n",
    "    # get the name of the cities:\n",
    "    nearest_cities = [(cities.iloc[i]['City'], distances[i]) for i in nearest_indices]\n",
    "    return nearest_cities"
   ]
  },
  {
   "cell_type": "markdown",
   "metadata": {},
   "source": [
    "We can also change the find coordinates method (in this way we should optimize a bit the process):"
   ]
  },
  {
   "cell_type": "code",
   "execution_count": 37,
   "metadata": {},
   "outputs": [],
   "source": [
    "def find_coordinates(name_city):\n",
    "    return city_coordinates.get(name_city)"
   ]
  },
  {
   "cell_type": "markdown",
   "metadata": {},
   "source": [
    "The new version of greedy aproach is the following:"
   ]
  },
  {
   "cell_type": "code",
   "execution_count": 38,
   "metadata": {},
   "outputs": [
    {
     "name": "stdout",
     "output_type": "stream",
     "text": [
      "numero di città 46\n",
      "After visiting all the 46 cities the cost was:  5131.727 Km\n"
     ]
    }
   ],
   "source": [
    "# select random city as a starting point\n",
    "starting_city = cities.sample(n=1)['City'].values[0]\n",
    "\n",
    "# mantain a set of cities already visited:\n",
    "visited = set()\n",
    "distance = 0 #euclidean distance computed\n",
    "num_visited = 0\n",
    "num_cities = cities.shape[0]\n",
    "current_city = find_coordinates(starting_city) # current city esplored\n",
    "name_current=starting_city\n",
    "print(\"numero di città\", num_cities)\n",
    "found = True\n",
    "num_next_cities = int(num_cities/5)\n",
    "\n",
    "# while i did not visited all the cities i keep on visiting:\n",
    "while num_visited<num_cities:\n",
    "    # if we didn't find the closest one and we did not see all the cities yet\n",
    "    # we increase the number of close cities to consider.\n",
    "    if not found:\n",
    "        num_next_cities = num_cities#increase the number of close cities to consider\n",
    "    next_city = None\n",
    "    found = False \n",
    "    #take the list of the first num_next_cities cities:\n",
    "    \n",
    "    closest_ones = closest_cities(name_current, cities, num_next_cities)\n",
    "    for city in closest_ones:\n",
    "        city = city[0]\n",
    "        if city not in visited:\n",
    "            found = True\n",
    "            coordinate_of_next = find_coordinates(city)\n",
    "            distance += euclidean_distance(current_city, coordinate_of_next)\n",
    "            current_city = find_coordinates(city)\n",
    "            name_current = city\n",
    "            num_visited += 1\n",
    "            visited.add(city)\n",
    "            break\n",
    "    #at the end we must end up to the first position:\n",
    "    if num_visited==num_cities:\n",
    "        #compute the distance to go from current city to the first one:\n",
    "        distance += euclidean_distance(current_city, find_coordinates(starting_city))\n",
    "\n",
    "#we visited all the cities with cost distance:\n",
    "print(\"After visiting all the\", len(cities), \"cities the cost was: \", round(distance, 3), \"Km\")    \n",
    "    "
   ]
  },
  {
   "cell_type": "markdown",
   "metadata": {},
   "source": [
    "# Version 3 greedy aproach\n"
   ]
  },
  {
   "cell_type": "markdown",
   "metadata": {},
   "source": [
    "In this version we would like to change the representation of the problem in a way that a solution is represented by a list of tuple object that contains the edge and the cost."
   ]
  },
  {
   "cell_type": "markdown",
   "metadata": {},
   "source": [
    "The idea is to:\n",
    "\n",
    "0. Define all the possible segments as [({c1, c2}, dist)]\n",
    "1. Start from a city\n",
    "2. Select minimum segment\n",
    "3. Add the other extreme of the segment to visited\n",
    "4. Update the distance\n",
    "5. Turn back to point 2\n",
    "\n",
    "Continue this process till len(visited)=num_cities"
   ]
  },
  {
   "cell_type": "code",
   "execution_count": 39,
   "metadata": {},
   "outputs": [],
   "source": [
    "def fitness(solution):\n",
    "    tot_dist=0\n",
    "    for edge in solution:\n",
    "        tot_dist -= DIST_MATRIX[edge[0], edge[1]]\n",
    "    \n",
    "    return (len(solution), tot_dist)"
   ]
  },
  {
   "cell_type": "code",
   "execution_count": 40,
   "metadata": {},
   "outputs": [
    {
     "name": "stdout",
     "output_type": "stream",
     "text": [
      "[({0, 1}, 349.30401144305745), ({0, 2}, 391.0418681947875), ({0, 3}, 383.0204391314121), ({0, 4}, 199.89962990855176), ({0, 5}, 364.0447808729763), ({0, 6}, 338.8096401206489), ({0, 7}, 609.696280667211), ({0, 8}, 690.431902252931), ({0, 9}, 204.4253666122213), ({0, 10}, 183.29551097355267), ({0, 11}, 290.4028573916701), ({0, 12}, 136.70372473443274), ({0, 13}, 377.57973448944483), ({0, 14}, 301.99049212290043), ({0, 15}, 241.85490798374872), ({0, 16}, 258.5284939080245), ({0, 17}, 625.0755286998198), ({0, 18}, 401.9399754108604), ({0, 19}, 237.16017652663953), ({0, 20}, 401.4539129529872), ({0, 21}, 312.00387878900796), ({0, 22}, 438.9328915074273), ({0, 23}, 239.268808375456), ({0, 24}, 608.6754823442737), ({0, 25}, 287.5153079129395), ({0, 26}, 105.17159317964676), ({0, 27}, 139.23847120123253), ({0, 28}, 345.1318096169963), ({0, 29}, 196.77126979341847), ({0, 30}, 137.84822902835992), ({0, 31}, 635.9878049331178), ({0, 32}, 260.6010504730683), ({0, 33}, 90.5967461797061), ({0, 34}, 206.84991190021685), ({0, 35}, 340.89891640285555), ({0, 36}, 517.7896360136997), ({0, 37}, 740.827430586168), ({0, 38}, 464.644920175352), ({0, 39}, 133.72990381295133), ({0, 40}, 333.6778775502446), ({0, 41}, 228.81018687566106), ({0, 42}, 492.26202582195253), ({0, 43}, 223.61470849462455), ({0, 44}, 285.6748171185827), ({0, 45}, 266.79616501220914), ({1, 2}, 50.17877214765558), ({1, 3}, 730.0237850907538), ({1, 4}, 543.4917488918168), ({1, 5}, 707.1776024837214), ({1, 6}, 686.8077470856149), ({1, 7}, 651.1407547224514), ({8, 1}, 427.0274354510594), ({1, 9}, 553.2532899024812), ({1, 10}, 502.3652519233446), ({1, 11}, 67.42173103569236), ({1, 12}, 481.59954070805725), ({1, 13}, 698.018461099247), ({1, 14}, 179.58271106771886), ({1, 15}, 285.7679383414054), ({16, 1}, 556.305610992239), ({1, 17}, 343.4377397646295), ({1, 18}, 744.5624698133303), ({1, 19}, 579.8155034866005), ({1, 20}, 745.7603201187994), ({1, 21}, 175.00968691893462), ({1, 22}, 778.2858149048168), ({1, 23}, 586.4891565138992), ({24, 1}, 427.05127925332584), ({1, 25}, 628.1859021971728), ({1, 26}, 383.93534485138395), ({1, 27}, 220.22775827053866), ({1, 28}, 685.3057625337847), ({1, 29}, 519.1231633228908), ({1, 30}, 486.58575970751895), ({1, 31}, 350.7307984227933), ({32, 1}, 601.957368717735), ({1, 33}, 437.9698417082954), ({1, 34}, 324.5143331637854), ({1, 35}, 141.7983859261124), ({1, 36}, 652.7085463905261), ({1, 37}, 469.8464700022437), ({1, 38}, 115.55574212919072), ({1, 39}, 336.6859231661386), ({40, 1}, 681.0783152080526), ({1, 41}, 531.6847850434327), ({1, 42}, 819.9143490063034), ({1, 43}, 566.2961559636149), ({1, 44}, 634.9331047473221), ({1, 45}, 614.9590045054626), ({2, 3}, 773.3913885654817), ({2, 4}, 587.607974318156), ({2, 5}, 744.291964208056), ({2, 6}, 729.6442183127813), ({2, 7}, 694.3807941827467), ({8, 2}, 430.50090746323104), ({9, 2}, 595.459850821265), ({2, 10}, 549.1814296642967), ({2, 11}, 117.19426014123634), ({2, 12}, 525.1961451400969), ({2, 13}, 745.6263172515705), ({2, 14}, 226.37341401152088), ({2, 15}, 335.5884558371456), ({16, 2}, 604.7677561004396), ({17, 2}, 344.46007624757436), ({2, 18}, 789.3257157406142), ({2, 19}, 624.2442211456378), ({2, 20}, 790.0866613485127), ({2, 21}, 220.8373877458927), ({2, 22}, 823.7873091864019), ({2, 23}, 625.7955092939098), ({24, 2}, 449.11351745170913), ({25, 2}, 673.1427552630914), ({2, 26}, 431.3370389983044), ({2, 27}, 266.51009325115353), ({2, 28}, 730.487440727087), ({2, 29}, 565.8010710854909), ({2, 30}, 528.8390773661979), ({2, 31}, 350.21684307930036), ({32, 2}, 646.7127027367166), ({33, 2}, 480.73854159440583), ({2, 34}, 374.69200928600924), ({2, 35}, 183.5677289199095), ({2, 36}, 701.0265300793251), ({2, 37}, 469.9128092347657), ({2, 38}, 77.62816934136235), ({2, 39}, 385.6488677442358), ({40, 2}, 720.1724660627083), ({41, 2}, 562.3740170107444), ({2, 42}, 867.1179907527436), ({2, 43}, 604.0157718466423), ({2, 44}, 676.4991684869959), ({2, 45}, 654.7220646876538), ({3, 4}, 187.24219512717815), ({3, 5}, 157.41795129567683), ({3, 6}, 46.01771032749969), ({3, 7}, 721.3330327869141), ({8, 3}, 1015.6897635265474), ({9, 3}, 179.75009982123606), ({10, 3}, 246.94155570576808), ({11, 3}, 667.7683886601226), ({3, 12}, 248.42484153984176), ({3, 13}, 153.72620944975253), ({3, 14}, 644.1832776342671), ({3, 15}, 537.0096035519557), ({16, 3}, 244.09032560842425), ({17, 3}, 965.55015184612), ({18, 3}, 46.64788817127682), ({19, 3}, 152.54630283590106), ({3, 20}, 33.91792128864521), ({3, 21}, 655.308302209301), ({3, 22}, 86.53813287170418), ({3, 23}, 174.7718720003287), ({24, 3}, 895.5893866502112), ({25, 3}, 111.29513577125736), ({26, 3}, 360.1952875701753), ({27, 3}, 511.5437048131484), ({3, 28}, 71.13340230767629), ({3, 29}, 230.38734462635284), ({3, 30}, 245.45849719114602), ({3, 31}, 977.5332613989967), ({32, 3}, 133.39151648406312), ({33, 3}, 292.74184280098615), ({34, 3}, 480.62579296301755), ({35, 3}, 694.5878125682352), ({3, 36}, 559.4533349315029), ({3, 37}, 1066.841097059484), ({3, 38}, 845.5713728385285), ({3, 39}, 421.62308372903595), ({40, 3}, 120.20640970699036), ({41, 3}, 319.4672652589428), ({42, 3}, 170.38514184455101), ({43, 3}, 209.80792832033362), ({3, 44}, 107.01458931375457), ({3, 45}, 146.7782277514257), ({4, 5}, 222.28446890222884), ({4, 6}, 146.3109576361904), ({4, 7}, 615.1704169666444), ({8, 4}, 838.3995211307431), ({9, 4}, 43.42728615199659), ({10, 4}, 80.40192668159493), ({11, 4}, 480.7141597909132), ({4, 12}, 63.195906335518075), ({4, 13}, 191.99615662469898), ({4, 14}, 460.1235841232145), ({4, 15}, 359.5473837814664), ({16, 4}, 134.51292498261378), ({17, 4}, 784.1067878343192), ({18, 4}, 202.25092189551802), ({19, 4}, 37.29202792818561), ({4, 20}, 202.49035952221416), ({4, 21}, 471.17823800140684), ({4, 22}, 239.106738193905), ({4, 23}, 109.43484249642134), ({24, 4}, 728.4060684859174), ({25, 4}, 87.93280283657002), ({26, 4}, 176.03804968151366), ({27, 4}, 324.43250038713836), ({4, 28}, 145.37465921457658), ({4, 29}, 70.66577200054621), ({4, 30}, 69.80601891428589), ({4, 31}, 795.8909260325946), ({32, 4}, 61.00409883398136), ({33, 4}, 109.68601505658283), ({34, 4}, 304.8973666553291), ({35, 4}, 509.1331121393708), ({4, 36}, 476.80390945632155), ({4, 37}, 889.6246608895601), ({4, 38}, 658.9761374946876), ({4, 39}, 239.13967610201632), ({40, 4}, 176.44303623472896), ({41, 4}, 230.08673681862584), ({42, 4}, 296.6880435083246), ({43, 4}, 129.5435641999771), ({4, 44}, 108.05031839839634), ({4, 45}, 117.7485593781135), ({5, 6}, 137.12944660367424), ({5, 7}, 829.2778643053456), ({8, 5}, 1046.008763209952), ({9, 5}, 185.60918768168887), ({10, 5}, 302.4095776853232), ({11, 5}, 652.3770021233769), ({12, 5}, 258.9341448112676), ({13, 5}, 298.74329617497807), ({5, 14}, 659.7092282716814), ({5, 15}, 572.3532336982233), ({16, 5}, 338.11404968821466), ({17, 5}, 985.4373219291857), ({18, 5}, 204.04510557102643), ({19, 5}, 208.33492914814096), ({20, 5}, 190.72671912560543), ({21, 5}, 670.3310207324232), ({5, 22}, 241.6051684418542), ({5, 23}, 127.68420802821198), ({24, 5}, 945.3916108826398), ({25, 5}, 204.2666139828646), ({26, 5}, 385.59388482472633), ({27, 5}, 503.21107142367964), ({28, 5}, 206.10643196531706), ({29, 5}, 290.78200021522514), ({5, 30}, 240.7553895993091), ({5, 31}, 996.7135140810421), ({32, 5}, 206.721582352546), ({33, 5}, 287.56390132309537), ({34, 5}, 520.4126433758133), ({35, 5}, 702.9584193409432), ({36, 5}, 679.3634325642092), ({37, 5}, 1097.016703773977), ({5, 38}, 820.6521448865335), ({5, 39}, 448.75086733904124), ({40, 5}, 49.93679674999438), ({41, 5}, 209.6848929934776), ({42, 5}, 326.0534250987345), ({43, 5}, 141.11716133038544), ({44, 5}, 121.07814849933307), ({45, 5}, 106.61398853260592), ({6, 7}, 709.1436953096545), ({8, 6}, 981.2969721539517), ({9, 6}, 134.7416956839194), ({10, 6}, 212.67071925078798), ({11, 6}, 625.2100254500172), ({12, 6}, 205.6439308945537), ({13, 6}, 161.61445439766905), ({6, 14}, 605.9684369192139), ({6, 15}, 502.01388731922003), ({16, 6}, 222.3368334010255), ({17, 6}, 929.0279789640853), ({18, 6}, 82.53117023473615), ({19, 6}, 114.19040005018668), ({20, 6}, 74.23915510350076), ({21, 6}, 617.0523149285085), ({6, 22}, 125.54369511467031), ({6, 23}, 129.93903464371056), ({24, 6}, 865.2955345615519), ({25, 6}, 82.61484440430539), ({26, 6}, 321.6343166218201), ({27, 6}, 469.21564485927973), ({28, 6}, 68.98664441795837), ({29, 6}, 196.92396894401728), ({6, 30}, 200.99162865660747), ({6, 31}, 940.9036584164224), ({32, 6}, 98.76737589504454), ({33, 6}, 248.94203159818542), ({34, 6}, 446.17900991947465), ({35, 6}, 655.3765830441721), ({36, 6}, 552.2119507178536), ({37, 6}, 1032.5090327175615), ({38, 6}, 802.3589330519204), ({6, 39}, 384.07502460810247), ({40, 6}, 91.44858647011222), ({41, 6}, 277.1697043085032), ({42, 6}, 205.89609768435952), ({43, 6}, 165.47617909229254), ({44, 6}, 61.41588754627765), ({45, 6}, 103.07612833751455), ({8, 7}, 556.3016300622202), ({9, 7}, 657.8393444871833), ({10, 7}, 536.9924823451554), ({11, 7}, 602.0626331213798), ({12, 7}, 606.3940566545103), ({13, 7}, 577.7356548534872), ({14, 7}, 473.77984765695925), ({15, 7}, 407.4955086055094), ({16, 7}, 491.24273324063176), ({17, 7}, 572.4502071464408), ({18, 7}, 694.274497562614), ({19, 7}, 621.6749616207434), ({20, 7}, 706.61436901182), ({21, 7}, 476.8352631100359), ({22, 7}, 693.1536668440472), ({23, 7}, 724.3868427991688), ({24, 7}, 390.2811320384364), ({25, 7}, 629.0492739896075), ({26, 7}, 512.6085588029756), ({27, 7}, 561.2309745180099), ({28, 7}, 650.4488006506975), ({29, 7}, 544.5456345705444), ({30, 7}, 632.5991933124645), ({31, 7}, 583.0897414731527), ({32, 7}, 622.8051298244382), ({33, 7}, 610.2259685634143), ({34, 7}, 413.2531396256776), ({35, 7}, 510.8190622884142), ({36, 7}, 173.89062184125248), ({37, 7}, 592.5972411806193), ({38, 7}, 710.254760886255), ({39, 7}, 477.28325122285213), ({40, 7}, 779.769762178437), ({41, 7}, 810.7039616353098), ({42, 7}, 661.372964783588), ({43, 7}, 739.2324222199331), ({44, 7}, 708.2000989648302), ({45, 7}, 731.1879256041094), ({8, 9}, 865.3842909130826), ({8, 10}, 769.0849052550734), ({8, 11}, 442.61718640414216), ({8, 12}, 789.1687175900372), ({8, 13}, 925.990701073729), ({8, 14}, 388.4705262819164), ({8, 15}, 479.3019034969043), ({8, 16}, 784.1387166785358), ({8, 17}, 87.04364014587367), ({8, 18}, 1012.7891841378623), ({8, 19}, 867.2891464677292), ({8, 20}, 1019.3017079440828), ({8, 21}, 378.4368678793541), ({8, 22}, 1033.95619199117), ({8, 23}, 918.3249869776093), ({8, 24}, 166.3570679647983), ({8, 25}, 904.403038342566), ({8, 26}, 663.4847752987641), ({8, 27}, 555.712082587446), ({8, 28}, 953.1845115101653), ({8, 29}, 785.4054494528867), ({8, 30}, 805.4288210353067), ({8, 31}, 84.28339538220968), ({8, 32}, 883.3110459119699), ({8, 33}, 758.5673885356498), ({8, 34}, 535.2278420178834), ({8, 35}, 354.05140766475176), ({8, 36}, 667.9573910080824), ({8, 37}, 51.227395340192665), ({8, 38}, 380.05488277096674), ({8, 39}, 599.8643203292356), ({8, 40}, 1007.8711247010584), ({8, 41}, 911.7142110570467), ({8, 42}, 1044.4226656939156), ({8, 43}, 910.0435882800597), ({8, 44}, 945.3713304359196), ({8, 45}, 941.3608668113338), ({9, 10}, 121.42821388175501), ({9, 11}, 492.68596881454897), ({9, 12}, 76.55842285965949), ({9, 13}, 217.71511138140266), ({9, 14}, 482.7314014269223), ({9, 15}, 388.5835637856746), ({16, 9}, 177.51524874194573), ({9, 17}, 808.2340352067332), ({9, 18}, 204.23194634380386), ({9, 19}, 58.582097243737906), ({9, 20}, 201.3737313208582), ({9, 21}, 493.6375664899913), ({9, 22}, 244.71617859027248), ({9, 23}, 66.56722292632472), ({24, 9}, 760.4688841127982), ({9, 25}, 102.07494093468547), ({9, 26}, 202.15290561946034), ({9, 27}, 337.48320220347534), ({9, 28}, 154.25258534152854), ({9, 29}, 113.4091392385717), ({9, 30}, 66.67171194357726), ({9, 31}, 819.8206808954037), ({32, 9}, 78.90495139809798), ({9, 33}, 115.54684140192654), ({9, 34}, 335.5837966864241), ({9, 35}, 529.4887120607485), ({9, 36}, 520.2311556626067), ({9, 37}, 916.5518632673186), ({9, 38}, 668.737807663055), ({9, 39}, 265.77081642999184), ({40, 9}, 143.04328845330593), ({9, 41}, 191.984464376275), ({9, 42}, 311.19738044274567), ({9, 43}, 86.64215598742508), ({9, 44}, 82.60947243472428), ({9, 45}, 79.09774511719976), ({10, 11}, 436.77552956353685), ({10, 12}, 80.03075988738944), ({10, 13}, 198.15513186397985), ({10, 14}, 399.0552474946883), ({10, 15}, 290.102957969558), ({16, 10}, 80.00693586361608), ({17, 10}, 718.7263291532942), ({10, 18}, 249.49106675898844), ({10, 19}, 99.99638078931501), ({10, 20}, 253.76511548116295), ({10, 21}, 410.2071451683857), ({10, 22}, 278.69261143714016), ({10, 23}, 187.9103801072048), ({24, 10}, 653.3488615551177), ({25, 10}, 135.97606698866787), ({10, 26}, 119.19198932605904), ({10, 27}, 282.68468492472795), ({10, 28}, 188.84409506422887), ({10, 29}, 17.17330189828679), ({10, 30}, 105.30559521161433), ({10, 31}, 730.7426536094483), ({32, 10}, 114.24855047129498), ({33, 10}, 111.25435932675673), ({10, 34}, 233.86222921872888), ({10, 35}, 451.0044836414647), ({10, 36}, 404.5262156476733), ({10, 37}, 820.2715034928696), ({10, 38}, 616.5461834256613), ({10, 39}, 176.6692948690272), ({40, 10}, 255.77533950195553), ({41, 10}, 288.7106121854873), ({10, 42}, 318.1091269583263), ({10, 43}, 202.74245554716762), ({10, 44}, 185.53020645616516), ({10, 45}, 198.12487659698442), ({11, 12}, 419.5905041808931), ({11, 13}, 631.6031482318925), ({11, 14}, 128.8781820519082), ({11, 15}, 222.19352410009628), ({16, 11}, 489.31124873337836), ({17, 11}, 364.1830730808611), ({18, 11}, 680.7933827034427), ({19, 11}, 516.6162612411697), ({11, 20}, 682.4487544321729), ({11, 21}, 127.60154449436713), ({11, 22}, 713.7403248704293), ({11, 23}, 529.3663216953859), ({24, 11}, 416.5322210684849), ({25, 11}, 564.3410393814291), ({26, 11}, 317.93489290448105), ({27, 11}, 156.29863325391386), ({11, 28}, 621.1607243195516), ({11, 29}, 453.6490654801784), ({11, 30}, 426.18876627508916), ({11, 31}, 373.1612498775885), ({32, 11}, 538.364860675056), ({33, 11}, 377.1399433909513), ({34, 11}, 258.1907130757902), ({35, 11}, 109.51661720605695), ({11, 36}, 592.7687161496), ({11, 37}, 489.0055554592043), ({11, 38}, 179.77207959666515), ({11, 39}, 269.4601401670805), ({40, 11}, 623.914700174852), ({41, 11}, 486.1362561634667), ({42, 11}, 753.7874058798126), ({43, 11}, 511.26329707564656), ({11, 44}, 574.9120659539856), ({11, 45}, 557.1719898512379), ({12, 13}, 248.28036313111488), ({12, 14}, 406.18118283257286), ({12, 15}, 313.47582985672835), ({16, 12}, 157.69629666648635), ({17, 12}, 731.6813700963901), ({18, 12}, 265.34550867718366), ({19, 12}, 100.4646084412534), ({12, 20}, 265.2372752744479), ({12, 21}, 417.0941665843321), ({12, 22}, 302.26921199499367), ({12, 23}, 132.84665782671308), ({24, 12}, 686.5539578748528), ({25, 12}, 150.93836462213662), ({26, 12}, 126.69898082613139), ({27, 12}, 263.5770276196447), ({12, 28}, 208.4964195147207), ({12, 29}, 83.77411578876621), ({12, 30}, 26.45904737732812), ({12, 31}, 743.2637616307153), ({32, 12}, 123.99952263061773), ({33, 12}, 46.723760122246745), ({34, 12}, 261.6638866310405), ({35, 12}, 453.1845550644134), ({12, 36}, 481.2645999521971), ({12, 37}, 840.3137488802347), ({12, 38}, 597.146531462375), ({12, 39}, 190.07127456939813), ({40, 12}, 218.74339000023846), ({41, 12}, 210.03446646060155), ({42, 12}, 358.0031091446018), ({43, 12}, 136.54214455186533), ({12, 44}, 158.56803480936728), ({12, 45}, 152.7870125034356), ({13, 14}, 579.6020835159276), ({13, 15}, 460.1630735329365), ({16, 13}, 146.36826834006118), ({17, 13}, 885.9648906053574), ({18, 13}, 118.21440414566239), ({19, 13}, 160.21649089511217), ({20, 13}, 131.67038925627676), ({21, 13}, 590.6182812703953), ({13, 22}, 117.05053035543504), ({13, 23}, 256.88038107912917), ({24, 13}, 791.7305934731605), ({25, 13}, 118.5332719624068), ({26, 13}, 314.2970726707031), ({27, 13}, 479.5899948169552), ({28, 13}, 92.66407883610667), ({29, 13}, 182.54670063615103), ({13, 30}, 261.19593100584683), ({13, 31}, 898.3194873440953), ({32, 13}, 138.8386777202299), ({33, 13}, 293.48440100217516), ({34, 13}, 404.04554694368284), ({35, 13}, 634.2678202339359), ({36, 13}, 411.0244860263545), ({37, 13}, 976.3876705209411), ({13, 38}, 811.0865255632106), ({13, 39}, 364.3276800336133), ({40, 13}, 252.1554504405696), ({41, 13}, 405.061371211938), ({42, 13}, 123.19477068521964), ({43, 13}, 290.9195403675198), ({44, 13}, 198.21870462870712), ({45, 13}, 241.10690806164408), ({14, 15}, 124.44567231892404), ({16, 14}, 433.2484955085369), ({17, 14}, 325.8788641177723), ({18, 14}, 648.4585696424311), ({19, 14}, 492.1960960470224), ({20, 14}, 652.7850589195933), ({21, 14}, 11.1526869070739), ({14, 22}, 675.8015754088794), ({14, 23}, 532.2002904147344), ({24, 14}, 320.035247821003), ({25, 14}, 534.4457497198655), ({26, 14}, 284.33831841710895), ({27, 14}, 169.9412346703566), ({28, 14}, 587.8152611008586), ({29, 14}, 416.1365784978317), ({14, 30}, 420.25678560045463), ({14, 31}, 337.30941864101976), ({32, 14}, 510.8479271755744), ({33, 14}, 372.29962004841144), ({34, 14}, 177.00914331276218), ({35, 14}, 56.26767299492243), ({36, 14}, 475.33273103035884), ({37, 14}, 438.9751350416187), ({38, 14}, 262.53764816285604), ({14, 39}, 222.66977112300634), ({40, 14}, 623.5910102523364), ({41, 14}, 525.4889406681657), ({42, 14}, 702.6405479455359), ({43, 14}, 522.262161220626), ({44, 14}, 564.4345896391695), ({45, 14}, 556.4882083941328), ({16, 15}, 314.1249345578435), ({17, 15}, 429.45724701616626), ({18, 15}, 536.6134463025094), ({19, 15}, 387.98748324063695), ({20, 15}, 542.2266503703029), ({21, 15}, 134.743654502029), ({22, 15}, 561.0197274300605), ({23, 15}, 445.44857541278384), ({24, 15}, 374.1230870581366), ({25, 15}, 425.85478128473346), ({26, 15}, 186.7773130664732), ({27, 15}, 155.12488653063755), ({28, 15}, 476.3475542233309), ({29, 15}, 306.6315702545823), ({30, 15}, 332.3825887845966), ({31, 15}, 441.60009329354745), ({32, 15}, 404.2120618284941), ({33, 15}, 288.90739553622274), ({34, 15}, 56.837851102893964), ({35, 15}, 180.71323290471733), ({36, 15}, 372.87747392264606), ({37, 15}, 530.5211674265227), ({38, 15}, 382.22679380827776), ({39, 15}, 123.78731133093633), ({40, 15}, 531.6208407838286), ({41, 15}, 469.8156674075742), ({42, 15}, 582.6203924306731), ({43, 15}, 442.2875273571771), ({44, 15}, 467.0738739644576), ({45, 15}, 466.23833365266233), ({16, 17}, 741.3883089503312), ({16, 18}, 231.4966304535702), ({16, 19}, 131.9217598208624), ({16, 20}, 239.95593564368414), ({16, 21}, 444.25837164826333), ({16, 22}, 249.84229612826766), ({16, 23}, 241.48374577393), ({16, 24}, 655.7900027657629), ({16, 25}, 140.01498821110388), ({16, 26}, 176.40803023523574), ({16, 27}, 340.9789668508715), ({16, 28}, 174.92836560637735), ({16, 29}, 74.0242139473328), ({16, 30}, 181.16841963801093), ({16, 31}, 753.6895449904565), ({16, 32}, 131.57069950385687), ({16, 33}, 191.24308722651088), ({16, 34}, 257.8142568416618), ({16, 35}, 488.0111730180749), ({16, 36}, 344.66168759909914), ({16, 37}, 834.877099315176), ({16, 38}, 668.0394991199938), ({16, 39}, 220.21520259109056), ({16, 40}, 288.5343358452916), ({16, 41}, 360.9847729455307), ({16, 42}, 269.40970530597383), ({16, 43}, 264.01876838043154), ({16, 44}, 217.0698385299134), ({16, 45}, 243.1004930736521), ({17, 18}, 966.0706567339452), ({17, 19}, 814.863584686536), ({17, 20}, 971.6065301900056), ({17, 21}, 315.16039836000436), ({17, 22}, 989.9743273846308), ({17, 23}, 858.0115542328692), ({24, 17}, 192.10023199305985), ({17, 25}, 854.695529725303), ({17, 26}, 608.0992052327018), ({17, 27}, 487.610106028634), ({17, 28}, 905.7825250125796), ({17, 29}, 735.4798773217842), ({17, 30}, 746.1256825682494), ({17, 31}, 12.477352214328397), ({32, 17}, 832.3005996590222), ({17, 33}, 698.1499161401671), ({17, 34}, 486.26929983942176), ({17, 35}, 284.48474371362755), ({17, 36}, 664.1234549537054), ({17, 37}, 126.40895916337286), ({17, 38}, 293.01721721226914), ({17, 39}, 545.0658569063904), ({40, 17}, 949.4399330535846), ({17, 41}, 841.5871414177097), ({17, 42}, 1006.7571115925921), ({17, 43}, 847.2962295195107), ({17, 44}, 889.556270712399), ({17, 45}, 882.3620885057953), ({18, 19}, 165.23236581774265), ({18, 20}, 14.50856854090449), ({18, 21}, 659.6112515115755), ({18, 22}, 43.07466891258297), ({18, 23}, 211.3460549165603), ({24, 18}, 887.2074399358708), ({25, 18}, 116.45275669822634), ({18, 26}, 367.11679478007744), ({18, 27}, 524.6539122444594), ({18, 28}, 60.64923118840254), ({18, 29}, 232.36546214136953), ({18, 30}, 266.769679994414), ({18, 31}, 978.2073384378298), ({32, 18}, 142.62851446035404), ({33, 18}, 311.41697170771994), ({18, 34}, 479.80938872809827), ({18, 35}, 700.4717598883162), ({18, 36}, 528.9205296800174), ({18, 37}, 1063.7632663772813), ({18, 38}, 859.8512389440128), ({18, 39}, 426.1565829117672), ({40, 18}, 166.12306014008257), ({41, 18}, 359.6520807011607), ({18, 42}, 124.69152967395101), ({18, 43}, 247.22202869058108), ({18, 44}, 142.3969385227682), ({18, 45}, 185.4083530739144), ({19, 20}, 165.94484669892304), ({19, 21}, 503.3003711396173), ({19, 22}, 201.81613376921283), ({19, 23}, 112.86286211872951), ({24, 19}, 753.29996570082), ({25, 19}, 50.746415746862766), ({26, 19}, 207.9230707851319), ({27, 19}, 360.32506525577287), ({19, 28}, 108.08714921947443), ({19, 29}, 85.53305733557347), ({19, 30}, 105.66790699500218), ({19, 31}, 826.7509815764139), ({32, 19}, 23.939721051289947), ({33, 19}, 146.9762149215085), ({34, 19}, 332.3599045505514), ({35, 19}, 542.1781290042599), ({19, 36}, 476.41905206831524), ({19, 37}, 918.5086394607839), ({19, 38}, 695.2320099552751), ({19, 39}, 270.0055741472322), ({40, 19}, 159.69901743172815), ({41, 19}, 250.1463637591735), ({42, 19}, 260.4645112613965), ({43, 19}, 140.9091944551222), ({19, 44}, 87.96783239407313), ({19, 45}, 111.28924615483855), ({20, 21}, 663.9354721743188), ({20, 22}, 52.80422977041385), ({20, 23}, 204.09620705713354), ({24, 20}, 895.1770324275753), ({25, 20}, 118.86975036286778), ({26, 20}, 370.38042095485014), ({27, 20}, 526.1845833334554), ({20, 28}, 66.13071891143346), ({20, 29}, 236.74025762933024), ({20, 30}, 265.2187980495849), ({20, 31}, 983.7020377360125), ({32, 20}, 144.17999730359347), ({33, 20}, 310.85718810885277), ({34, 20}, 485.4934946472955), ({35, 20}, 704.3445125256661), ({20, 36}, 541.8937418130035), ({20, 37}, 1070.3353744883243), ({20, 38}, 861.1722774120658), ({20, 39}, 430.2232349806755), ({40, 20}, 154.10944797097906), ({41, 20}, 351.0346341214706), ({42, 20}, 136.46733097222184), ({43, 20}, 239.70819118381925), ({20, 44}, 135.30303287169158), ({20, 45}, 177.23999371543923), ({21, 22}, 686.9398093398219), ({21, 23}, 542.8614615046334), ({24, 21}, 313.03962046669085), ({25, 21}, 545.5899653144137), ({26, 21}, 295.4282487181939), ({27, 21}, 178.88703651063597), ({28, 21}, 598.9679470591983), ({29, 21}, 427.2889431437331), ({21, 30}, 431.0306603560136), ({21, 31}, 326.5444540095204), ({32, 21}, 521.9780611714048), ({33, 21}, 382.98951874857363), ({34, 21}, 187.79505534483067), ({35, 21}, 46.24532696291669), ({36, 21}, 482.0322401745308), ({37, 21}, 428.83790053498853), ({21, 38}, 254.46804080917755), ({21, 39}, 233.81138989756252), ({40, 21}, 634.3795692158872), ({41, 21}, 534.8090889397008), ({42, 21}, 713.6389445536264), ({43, 21}, 532.6875433021969), ({44, 21}, 575.3911637675865), ({45, 21}, 567.2497449278095), ({22, 23}, 254.34980077143157), ({24, 22}, 904.0582736342833), ({25, 22}, 151.4689935231678), ({26, 22}, 397.63731540360305), ({27, 22}, 558.0731883550925), ({28, 22}, 93.81732525588315), ({29, 22}, 261.54060910704726), ({22, 30}, 305.58891262615623), ({22, 31}, 1002.2086672733329), ({32, 22}, 178.34571723047605), ({33, 22}, 348.778470126784), ({34, 22}, 504.21458399538943), ({35, 22}, 728.7828566304677), ({36, 22}, 524.3889261874816), ({37, 22}, 1084.7140890127398), ({38, 22}, 893.2510665112347), ({22, 39}, 454.68794393293746), ({40, 22}, 206.68711345185295), ({41, 22}, 402.7017107626951), ({42, 22}, 84.45894281264431), ({43, 22}, 290.25699100208556), ({44, 22}, 185.41148882323333), ({45, 22}, 228.47933953780088), ({24, 23}, 819.0740117824544), ({25, 23}, 139.01088787617692), ({26, 23}, 258.91957234120406), ({27, 23}, 377.76675318713734), ({28, 23}, 176.3053692430327), ({29, 23}, 179.8833269603014), ({30, 23}, 113.24688559731894), ({31, 23}, 869.3364310381585), ({32, 23}, 124.86045008876656), ({33, 23}, 159.93754554234627), ({34, 23}, 394.3760792918816), ({35, 23}, 576.0532000974356), ({36, 23}, 585.5273724376646), ({37, 23}, 969.3327857367782), ({38, 23}, 701.0988990636973), ({39, 23}, 321.6972157924855), ({40, 23}, 94.61307510139319), ({41, 23}, 150.79546003219656), ({42, 23}, 330.9568113831953), ({43, 23}, 36.07208970412391), ({44, 23}, 68.95066661272608), ({45, 23}, 30.129893989361843), ({24, 25}, 785.0559471359697), ({24, 26}, 560.1569172338722), ({24, 27}, 487.29660403675825), ({24, 28}, 829.3809830382797), ({24, 29}, 668.5578364246005), ({24, 30}, 706.2556166415242), ({24, 31}, 200.8198077021519), ({24, 32}, 766.5343044459588), ({24, 33}, 662.9925878789295), ({24, 34}, 424.9862554563348), ({24, 35}, 309.0689134010174), ({24, 36}, 504.6395587837354), ({24, 37}, 206.4685647180968), ({24, 38}, 424.96993738322254), ({24, 39}, 497.7967252235814), ({24, 40}, 903.2611763486279), ({24, 41}, 837.0550356816726), ({24, 42}, 905.9654451293399), ({24, 43}, 816.3980556967722), ({24, 44}, 836.4515733614221), ({24, 45}, 838.9191885394742), ({25, 26}, 251.53935592491914), ({25, 27}, 408.2163300580567), ({25, 28}, 57.65426248112829), ({25, 29}, 119.24693596215177), ({25, 30}, 156.14546614839628), ({25, 31}, 866.7164379820232), ({32, 25}, 26.942823860477837), ({25, 33}, 197.5678552911568), ({25, 34}, 369.3984210671293), ({25, 35}, 585.6695250382412), ({25, 36}, 475.5459539339811), ({25, 37}, 955.5508927041776), ({25, 38}, 743.4353300897322), ({25, 39}, 311.7834841814405), ({40, 25}, 154.39997084359166), ({25, 41}, 286.53480733106056), ({25, 42}, 210.49427792876835), ({25, 43}, 172.5024786923093), ({25, 44}, 87.63849354730617), ({25, 45}, 126.3246633843909), ({26, 27}, 165.498242539523), ({26, 28}, 306.65145512336), ({26, 29}, 136.2477153089619), ({26, 30}, 146.27078811199718), ({26, 31}, 619.8670084234718), ({32, 26}, 227.12576812951173), ({33, 26}, 106.54527123549394), ({26, 34}, 135.82252658371334), ({26, 35}, 334.4172367949658), ({26, 36}, 413.2287775599955), ({26, 37}, 714.680750000293), ({26, 38}, 497.6843940555141), ({26, 39}, 63.64271193762265), ({40, 26}, 345.0858636627462), ({41, 26}, 302.899865182425), ({26, 42}, 435.9795378899532), ({26, 43}, 257.83712903745266), ({26, 44}, 281.98689415598864), ({26, 45}, 279.4724814561173), ({27, 28}, 465.19695548768897), ({27, 29}, 299.2910638376432), ({27, 30}, 271.3375329978229), ({27, 31}, 498.2820862137804), ({32, 27}, 382.14729220441285), ({33, 27}, 222.09162068505526), ({34, 27}, 154.81960276912253), ({35, 27}, 203.13676705238862), ({27, 36}, 508.60942288264704), ({27, 37}, 605.5496942694658), ({27, 38}, 335.2535483003723), ({27, 39}, 128.7789435190754), ({40, 27}, 471.786122350089), ({41, 27}, 356.1990780543332), ({42, 27}, 600.7042049362549), ({43, 27}, 362.84806569915196), ({27, 44}, 419.9780474353745), ({27, 45}, 404.5823285512894), ({28, 29}, 171.71642897444596), ({28, 30}, 212.61823597545248), ({28, 31}, 917.8988062831896), ({32, 28}, 84.53308784184077), ({33, 28}, 255.0605540892278), ({34, 28}, 419.5782272424271), ({35, 28}, 639.834008989348), ({28, 36}, 489.62983827266254), ({28, 37}, 1004.2128803102712), ({28, 38}, 800.4504385353521), ({28, 39}, 365.5116721779673), ({40, 28}, 159.6422718279297), ({41, 28}, 327.08582058263465), ({42, 28}, 157.51321102418817), ({43, 28}, 212.06584128640947), ({28, 44}, 111.17124726666088), ({28, 45}, 155.70372908612103), ({29, 30}, 107.21657380016791), ({29, 31}, 747.513207307852), ({32, 29}, 98.23286619246431), ({33, 29}, 120.24610813266263), ({34, 29}, 250.25032744191947), ({35, 29}, 468.1530060787553), ({36, 29}, 408.2614476648242), ({37, 29}, 836.5771883124075), ({29, 38}, 633.4120027344793), ({29, 39}, 193.81115334123584), ({40, 29}, 243.3894481175055), ({41, 29}, 288.5203793282417), ({42, 29}, 301.7448392353635), ({43, 29}, 197.37267532812427), ({44, 29}, 172.42653867058445), ({45, 29}, 187.88260708600308), ({30, 31}, 757.5641522871273), ({32, 30}, 129.58548374439064), ({33, 30}, 49.26615789102609), ({34, 30}, 282.0596922884045), ({35, 30}, 465.56777024509125), ({36, 30}, 507.6380560176856), ({37, 30}, 856.4832096389556), ({38, 30}, 602.0666375453894), ({30, 39}, 208.59673656520027), ({40, 30}, 203.35972444719084), ({41, 30}, 183.82872267717445), ({42, 30}, 366.09394014719805), ({43, 30}, 112.64069747773023), ({44, 30}, 148.7393942054608), ({45, 30}, 136.2416575230537), ({32, 31}, 844.2606748243641), ({33, 31}, 709.5112921234869), ({34, 31}, 498.42161553613056), ({35, 31}, 295.2224954278373), ({36, 31}, 675.9990106220904), ({37, 31}, 119.72689054756697), ({38, 31}, 296.71047143147985), ({39, 31}, 556.8965582941001), ({40, 31}, 960.9001422207867), ({41, 31}, 851.8202258824483), ({42, 31}, 1019.1521474017433), ({43, 31}, 858.4013651725426), ({44, 31}, 901.2191107520655), ({45, 31}, 893.7906639836432), ({32, 33}, 170.62507125856942), ({32, 34}, 348.0832758420256), ({32, 35}, 561.5266978384851), ({32, 36}, 473.4794041991253), ({32, 37}, 934.5026210797014), ({32, 38}, 717.2810634169023), ({32, 39}, 288.2466426362318), ({32, 40}, 157.02006680398367), ({32, 41}, 267.9771324871572), ({32, 42}, 236.60830997271822), ({32, 43}, 155.9608832850017), ({32, 44}, 85.93710808320459), ({32, 45}, 117.64010366532213), ({33, 34}, 241.1377928379251), ({33, 35}, 416.853543418384), ({33, 36}, 495.6909359648431), ({33, 37}, 809.534053905301), ({33, 38}, 553.501938338942), ({33, 39}, 165.66447294222908), ({40, 33}, 251.85025427293016), ({33, 41}, 200.5394101874627), ({33, 42}, 404.5583855622616), ({33, 43}, 153.42537077972233), ({33, 44}, 197.91149042291212), ({33, 45}, 184.54147335301), ({34, 35}, 232.837926473714), ({34, 36}, 354.1508726839439), ({34, 37}, 586.4200659883571), ({34, 38}, 427.3260392434922), ({34, 39}, 76.5411082252729), ({40, 34}, 478.5201316506459), ({41, 34}, 430.08075904862), ({34, 42}, 526.746585832585), ({34, 43}, 393.55259879120706), ({34, 44}, 412.7785743963132), ({34, 45}, 413.9343791601275), ({35, 36}, 524.7220607230245), ({35, 37}, 403.28760515987165), ({35, 38}, 210.29629148524697), ({35, 39}, 274.34606345221016), ({40, 35}, 668.7037050498311), ({41, 35}, 558.0901310918064), ({42, 35}, 757.4048875254266), ({43, 35}, 563.8195412524432), ({35, 44}, 611.7523298170594), ({35, 45}, 601.3862549255155), ({36, 37}, 710.9365674683115), ({36, 38}, 734.8605441262438), ({36, 39}, 397.230290641791), ({40, 36}, 629.4290275621943), ({41, 36}, 691.1383397456246), ({42, 36}, 488.55099403844645), ({43, 36}, 605.5421695484681), ({36, 44}, 559.3440794664488), ({36, 45}, 587.6936161835733), ({37, 38}, 414.71429792635837), ({37, 39}, 651.0649487694699), ({40, 37}, 1059.0009062807123), ({41, 37}, 961.3026147642315), ({42, 37}, 1094.4741099846917), ({43, 37}, 960.8379600797589), ({44, 37}, 996.581234753863), ({45, 37}, 992.4545547576918), ({38, 39}, 447.8369967644171), ({40, 38}, 795.6187748679803), ({41, 38}, 639.974521621504), ({42, 38}, 933.4353032748672), ({43, 38}, 680.085743308479), ({44, 38}, 750.3158578188395), ({45, 38}, 729.7721086846036), ({40, 39}, 408.6522928518017), ({41, 39}, 353.77284952402056), ({42, 39}, 487.30594973335184), ({43, 39}, 318.8150113446294), ({44, 39}, 345.54533594049053), ({45, 39}, 342.8445304817747), ({40, 41}, 211.24267222483496), ({40, 42}, 290.5463083698651), ({40, 43}, 118.66673356379675), ({40, 44}, 71.84918662721635), ({40, 45}, 67.34765657910765), ({41, 42}, 481.1852054412791), ({41, 43}, 115.09339706818346), ({41, 44}, 218.3459483752784), ({41, 45}, 174.33263633359223), ({42, 43}, 367.02207202260314), ({42, 44}, 262.8429303569274), ({42, 45}, 307.11879141096523), ({43, 44}, 104.85692160281307), ({43, 45}, 63.17924400530663), ({44, 45}, 44.69517255475827)]\n"
     ]
    }
   ],
   "source": [
    "segments = [\n",
    "    ({c1, c2}, float(DIST_MATRIX[c1, c2])) for c1, c2 in combinations(range(len(cities)), 2)\n",
    "]\n",
    "print(segments)\n",
    "edges = set()"
   ]
  },
  {
   "cell_type": "code",
   "execution_count": 41,
   "metadata": {},
   "outputs": [],
   "source": [
    "def find_closest(segments, city, visited):\n",
    "    # Filtra i segmenti che contengono 'city' e hanno un'altra città non in 'visited'\n",
    "    candidates = [\n",
    "        (pair, distance) for pair, distance in segments\n",
    "        if city in pair and (other_city := (pair - {city}).pop()) not in visited\n",
    "    ]\n",
    "    closest_segment = min(candidates, key=lambda x: x[1])\n",
    "    closest_city = (closest_segment[0] - {city}).pop()\n",
    "    return closest_city, closest_segment[1]"
   ]
  },
  {
   "cell_type": "markdown",
   "metadata": {},
   "source": [
    "Perform the actual algoithm:"
   ]
  },
  {
   "cell_type": "code",
   "execution_count": 42,
   "metadata": {},
   "outputs": [],
   "source": [
    "def find_closest(segments, city, visited):\n",
    "    # Filtra i segmenti che contengono 'city' e hanno un'altra città non in 'visited'\n",
    "    candidates = [\n",
    "        (pair, distance) for pair, distance in segments\n",
    "        if city in pair and (other_city := (pair - {city}).pop()) not in visited\n",
    "    ]\n",
    "    closest_segment = min(candidates, key=lambda x: x[1])\n",
    "    closest_city = (closest_segment[0] - {city}).pop()\n",
    "    return (int(city), closest_city)"
   ]
  },
  {
   "cell_type": "code",
   "execution_count": 43,
   "metadata": {},
   "outputs": [
    {
     "name": "stdout",
     "output_type": "stream",
     "text": [
      "distanza finale prima di HC è  4436.03176952516\n"
     ]
    }
   ],
   "source": [
    "#select first solution:\n",
    "edges = []\n",
    "city = 0\n",
    "visited = []\n",
    "visited.append(int(city))\n",
    "while len(visited)<len(cities):\n",
    "    c0, c1 = find_closest(segments, city, visited)\n",
    "    edges.append((c0, c1))\n",
    "    visited.append(c1)\n",
    "    city=c1\n",
    "edges.append((edges[len(edges)-1][1], edges[0][0]))\n",
    "print(\"distanza finale prima di HC è \", fitness(edges)[1]*-1)"
   ]
  },
  {
   "cell_type": "markdown",
   "metadata": {},
   "source": [
    "This slightly increases the performance of the model."
   ]
  },
  {
   "cell_type": "markdown",
   "metadata": {},
   "source": [
    "# Hill climbing\n",
    "\n",
    "We can now consider using the hill climbing approach. \n",
    "As a fitness function we may decide to use a tuple as: (number of covered cities, total distance)."
   ]
  },
  {
   "cell_type": "markdown",
   "metadata": {},
   "source": [
    "But, we should also consider the fact that a certain solution may be \"unfeasable\" for our problem because creates a cycle. In this case we may consider returning as first element of the tuple 0."
   ]
  },
  {
   "cell_type": "code",
   "execution_count": 44,
   "metadata": {},
   "outputs": [],
   "source": [
    "def cyclic(edges):\n",
    "    G = nx.Graph()\n",
    "    G.add_edges_from(edges)\n",
    "    try:\n",
    "        nx.find_cycle(G)\n",
    "        return True\n",
    "    except:\n",
    "        return False"
   ]
  },
  {
   "cell_type": "markdown",
   "metadata": {},
   "source": [
    "We consider a solution to be a set of edges that have been selected for the shortest path. \n",
    "Something like [({1,2}, cost)], so a list of \n",
    "The fitness function "
   ]
  },
  {
   "cell_type": "markdown",
   "metadata": {},
   "source": [
    "We apply the final greedy aproach to find the starting solution. From there we would like to tweak the solution to find eventually better solutions. \n",
    "\n",
    "We consider a solution to be a list of edges, indicated as tuple of nodes, something like [(2,3), (3,4),(4,19)] ecc."
   ]
  },
  {
   "cell_type": "markdown",
   "metadata": {},
   "source": [
    "Now we can try to apply simulated annealing, and the tweak function to find a better solution."
   ]
  },
  {
   "cell_type": "markdown",
   "metadata": {},
   "source": [
    "Intuition of the tweak:\n",
    "    [(TO, MI), (MI, RM), (RM, VV)]\n",
    "    intermediate:\n",
    "    [(MI, RM), (RM, VV), (TO, MI)]\n",
    "    next step:\n",
    "    [(MI, RM), (RM, VV), (VV, TO)]\n",
    "    MOST general case:\n",
    "    [(TO, MI), (MI, RM), (RM, VV), (VV, ME), (ME, SI)]\n",
    "    index = 1; index2 = 3\n",
    "    [(TO, MI), (VV, ME), (RM, VV), (MI, RM), (ME, SI)]\n",
    "    now we change the solution:\n",
    "    [(TO, MI), (MI, ME), (ME, VV), (VV, RM), (RM, SI)].\n",
    "    In practice we are first swapping the 2 random elements\n",
    "    then we have to continuosly update the first extreme of the segment\n",
    "    and put the second extreme of the previous step. Not change the second one.\n",
    "    this should happen till the end of the list solution\n",
    "    Now we change the first element of each tuple staring from index to the end:"
   ]
  },
  {
   "cell_type": "code",
   "execution_count": 45,
   "metadata": {},
   "outputs": [],
   "source": [
    "def swap_mutation(solution):\n",
    "    solution = solution.copy()\n",
    "    # choose the index:\n",
    "    index = random.randint(1, len(solution) - 2) #not the first or the last one\n",
    "    index2=index #should be higher\n",
    "    while index2<=index:\n",
    "        index2 = random.randint(0, len(solution) - 1)\n",
    "\n",
    "    # now we have the 2 indeces to use.\n",
    "\n",
    "    selected_edge1 = solution[index]\n",
    "    selected_edge2 = solution[index2]\n",
    "\n",
    "    solution[index] = selected_edge2\n",
    "    solution[index2] = selected_edge1\n",
    "\n",
    "    for i in range(index, len(solution)):\n",
    "        i_elem=solution[i]\n",
    "        prev_elem=solution[i-1]\n",
    "        elem = prev_elem[1]\n",
    "        solution[i]=(elem, i_elem[1])\n",
    "\n",
    "    return solution"
   ]
  },
  {
   "cell_type": "code",
   "execution_count": 46,
   "metadata": {},
   "outputs": [],
   "source": [
    "def hill_climbing_tsp_scramble(initial_solution, max_iters=1000):\n",
    "    best_solution = initial_solution\n",
    "    fitness_best= fitness(best_solution)\n",
    "\n",
    "    for _ in range(max_iters):\n",
    "        new_solution = swap_mutation(best_solution)\n",
    "        fitness_new= fitness(new_solution)\n",
    "        if fitness_new > fitness_best:\n",
    "            best_solution = new_solution\n",
    "            fitness_best = fitness_new\n",
    "\n",
    "    return best_solution"
   ]
  },
  {
   "cell_type": "markdown",
   "metadata": {},
   "source": [
    "# Solution with Simulated annealing"
   ]
  },
  {
   "cell_type": "markdown",
   "metadata": {},
   "source": [
    "If the number of improvements is increasing we increase the temperatura, otherwise we decrease it."
   ]
  },
  {
   "cell_type": "code",
   "execution_count": 47,
   "metadata": {},
   "outputs": [
    {
     "name": "stdout",
     "output_type": "stream",
     "text": [
      "distanza finale prima di HC è  4699.058487654932\n"
     ]
    }
   ],
   "source": [
    "segments = [\n",
    "    ({c1, c2}, float(DIST_MATRIX[c1, c2])) for c1, c2 in combinations(range(len(cities)), 2)\n",
    "]\n",
    "\n",
    "#select first solution:\n",
    "edges = []\n",
    "city = 32\n",
    "visited = []\n",
    "visited.append(int(city))\n",
    "while len(visited)<len(cities):\n",
    "    c0, c1 = find_closest(segments, city, visited)\n",
    "    edges.append((c0, c1))\n",
    "    visited.append(c1)\n",
    "    city=c1\n",
    "edges.append((edges[len(edges)-1][1], edges[0][0]))\n",
    "print(\"distanza finale prima di HC è \", fitness(edges)[1]*-1)"
   ]
  },
  {
   "cell_type": "code",
   "execution_count": 48,
   "metadata": {},
   "outputs": [
    {
     "name": "stdout",
     "output_type": "stream",
     "text": [
      "solution after SA is:  4554.782443247068\n"
     ]
    }
   ],
   "source": [
    "#simulated annealing\n",
    "temperatura_iniziale = 100\n",
    "tasso_riscaldamento = 1.1 \n",
    "it=0\n",
    "\n",
    "#one out of five approach\n",
    "miglioramenti_recenti = deque(maxlen=5) \n",
    "miglioramenti_richiesti = 1  \n",
    "\n",
    "#stopping criteria:\n",
    "miglioramenti_recenti_stop = deque(maxlen=100)\n",
    "miglioramenti_recenti_stop.append(True)\n",
    "\n",
    "# Initial solution: greedy one!\n",
    "x_corrente = edges\n",
    "costo_corrente = fitness(edges)\n",
    "\n",
    "temperatura = temperatura_iniziale\n",
    "while it<1000:\n",
    "    it+=1\n",
    "    # tweak the solution\n",
    "    x_nuovo = hill_climbing_tsp_scramble(x_corrente)\n",
    "    costo_nuovo = fitness(x_nuovo)\n",
    "    \n",
    "    # variation of fitness by changing sign\n",
    "    delta_costo = costo_nuovo[1]*(-1) - costo_corrente[1]*(-1) \n",
    "    #we are sure the solution after swap mutation is valid if the previous was it.\n",
    "        \n",
    "    if delta_costo < 0 or (random.random() < math.exp(-delta_costo / temperatura) and delta_costo!=0):\n",
    "        x_corrente = x_nuovo\n",
    "        costo_corrente = costo_nuovo\n",
    "        miglioramenti_recenti.append(True)\n",
    "        miglioramenti_recenti_stop.append(True)\n",
    "    else:\n",
    "        miglioramenti_recenti.append(False)\n",
    "        miglioramenti_recenti_stop.append(False)\n",
    "\n",
    "    if miglioramenti_recenti.count(True) > miglioramenti_richiesti:\n",
    "        temperatura *= tasso_riscaldamento  # more exploration\n",
    "    if miglioramenti_recenti.count(True) < miglioramenti_richiesti:\n",
    "        temperatura /= tasso_riscaldamento\n",
    "    \n",
    "    if miglioramenti_recenti_stop.count(True)==0: #stop condition\n",
    "        break\n",
    "\n",
    "fitness_new=fitness(x_corrente)[1]*(-1)\n",
    "print(\"solution after SA is: \", fitness_new)\n"
   ]
  },
  {
   "cell_type": "markdown",
   "metadata": {},
   "source": [
    "Something else must be still done!"
   ]
  },
  {
   "cell_type": "markdown",
   "metadata": {},
   "source": [
    "# Improved fitness landscape\n",
    "\n",
    "\n",
    "We divide the process into 2 steps: \n",
    "\n",
    "1. we continue adding the shortest segments and the corrisponding cities to visited. we continue doing it till visited become a vector of all true elements.\n",
    "2. For each city that is present in the state only once (either on the left or on the right) we take the shortest segment to another city that has the same property."
   ]
  },
  {
   "cell_type": "code",
   "execution_count": 49,
   "metadata": {},
   "outputs": [
    {
     "name": "stdout",
     "output_type": "stream",
     "text": [
      "final distance is  5569.304435077125\n"
     ]
    }
   ],
   "source": [
    "segments = [\n",
    "    ({c1, c2}, float(DIST_MATRIX[c1, c2])) for c1, c2 in combinations(range(len(cities)), 2)\n",
    "]\n",
    "\n",
    "#first step:\n",
    "#select first solution:\n",
    "edges = [] #current solution\n",
    "visited = [False] * len(cities) #list of boolean\n",
    "while not np.all(visited):\n",
    "    #take the shortest edge:\n",
    "    min_index = min(range(len(segments)), key=lambda i: segments[i][1])\n",
    "    min_segment = segments[min_index]\n",
    "    segments.pop(min_index) #we delete so that we do not select later!\n",
    "    c1, c2 = list(min_segment[0])\n",
    "    if not(any(c1 in coppia for coppia in edges) and any(c2 in coppia for coppia in edges)):\n",
    "        edges.append((c1, c2))\n",
    "        visited[c1] = True \n",
    "        visited[c2] = True\n",
    "\n",
    "#second step:\n",
    "#we take the nodes that are present only once:\n",
    "counter = Counter(element for coppia in edges for element in coppia)\n",
    "unique_cities = [element for element, count in counter.items() if count == 1]\n",
    "\n",
    "filtered_segments = [\n",
    "    segmento for segmento in segments\n",
    "    if all(city in unique_cities for city in segmento[0])\n",
    "]\n",
    "sortered_filtered_segments = sorted(filtered_segments, key=lambda x: x[1])\n",
    "\n",
    "while len(unique_cities)!=0:\n",
    "    segment =  sortered_filtered_segments.pop(0)\n",
    "    c1, c2 = list(segment[0])\n",
    "    if c1 in unique_cities and c2 in unique_cities:\n",
    "        edges.append((c1, c2))\n",
    "        visited[c1] = True \n",
    "        visited[c2] = True\n",
    "        unique_cities.remove(c1)\n",
    "        unique_cities.remove(c2)\n",
    "\n",
    "\n",
    "#edges.append((edges[len(edges)-1][1], edges[0][0]))\n",
    "print(\"final distance is \", fitness(edges)[1]*-1)\n",
    "# print(edges)"
   ]
  },
  {
   "cell_type": "markdown",
   "metadata": {},
   "source": [
    "Even if it seemed to be a very good idea, it is not."
   ]
  },
  {
   "cell_type": "markdown",
   "metadata": {},
   "source": [
    "Another idea could be to consider a solution not as a list of tuple object, but a list of cities:\n",
    "\n",
    "from: [(0,1), (1,2),(2,3)]\n",
    "to: [0,1,2,3]\n",
    "\n",
    "which significately simplify the structure!"
   ]
  },
  {
   "cell_type": "code",
   "execution_count": 50,
   "metadata": {},
   "outputs": [],
   "source": [
    "def fitness(solution):\n",
    "    tot_dist=0\n",
    "    for node in range(len(solution)-1):\n",
    "        tot_dist -= DIST_MATRIX[solution[node], solution[node+1]]\n",
    "    \n",
    "    return (len(solution), tot_dist)"
   ]
  },
  {
   "cell_type": "markdown",
   "metadata": {},
   "source": [
    "The advantage of this representation is the incredible ability to create simple tweak functions."
   ]
  },
  {
   "cell_type": "code",
   "execution_count": 51,
   "metadata": {},
   "outputs": [],
   "source": [
    "def swap_mutation(solution):\n",
    "    # choose the index:\n",
    "    #print(\"soluzione iniziale:\", fitness(solution))\n",
    "    index = random.randint(1, len(solution) - 2) #not the first nor the last one\n",
    "    index2=index #should be higher\n",
    "    while index2<=index:\n",
    "        index2 = random.randint(0, len(solution) - 1)\n",
    "    # now we have the 2 indeces to use.\n",
    "    selected_edge1 = solution[index]\n",
    "    selected_edge2 = solution[index2]\n",
    "    solution[index] = selected_edge2\n",
    "    solution[index2] = selected_edge1\n",
    "    #print(\"soluzione finale:\", fitness(solution))\n",
    "    return solution"
   ]
  },
  {
   "cell_type": "code",
   "execution_count": 63,
   "metadata": {},
   "outputs": [],
   "source": [
    "def inversion_mutation(solution):\n",
    "    # choose the index:\n",
    "    index, index2 = np.random.randint(0, len(solution) - 1, size=2) #not the first nor the last one\n",
    "    if index<index2:\n",
    "        for _ in range(index, index2):\n",
    "            sol=solution[index]\n",
    "            solution[index]=solution[index+1]\n",
    "            solution[index+1]=sol\n",
    "    else:\n",
    "        for _ in range(index2, index):\n",
    "            sol=solution[index2]\n",
    "            solution[index2]=solution[index2+1]\n",
    "            solution[index2+1]=sol\n",
    "    return solution"
   ]
  },
  {
   "cell_type": "code",
   "execution_count": 61,
   "metadata": {},
   "outputs": [
    {
     "name": "stdout",
     "output_type": "stream",
     "text": [
      "distanza finale prima di HC è  4436.03176952516\n",
      "solution after SA is:  4431.363767937219\n"
     ]
    }
   ],
   "source": [
    "segments = [\n",
    "    ({c1, c2}, float(DIST_MATRIX[c1, c2])) for c1, c2 in combinations(range(len(cities)), 2)\n",
    "]\n",
    "\n",
    "#select first solution:\n",
    "solution = []\n",
    "city = 0\n",
    "solution.append(city)\n",
    "visited = []\n",
    "visited.append(int(city))\n",
    "while len(visited)<len(cities):\n",
    "    c0, c1 = find_closest(segments, city, visited)\n",
    "    solution.append(c1)\n",
    "    visited.append(c1)\n",
    "    city=c1\n",
    "solution.append(solution[0])\n",
    "print(\"distanza finale prima di HC è \", fitness(solution)[1]*-1)\n",
    "\n",
    "\n",
    "#simulated annealing\n",
    "temperatura_iniziale = 100\n",
    "tasso_riscaldamento = 1.1 \n",
    "it=0\n",
    "\n",
    "#one out of five approach\n",
    "miglioramenti_recenti = deque(maxlen=5) \n",
    "miglioramenti_richiesti = 1  \n",
    "\n",
    "#stopping criteria:\n",
    "miglioramenti_recenti_stop = deque(maxlen=5000)\n",
    "miglioramenti_recenti_stop.append(True)\n",
    "\n",
    "# Initial solution: greedy one!\n",
    "x_corrente = solution\n",
    "costo_corrente = fitness(x_corrente)\n",
    "best_cost = costo_corrente\n",
    "best_sol = x_corrente\n",
    "\n",
    "temperatura = temperatura_iniziale\n",
    "while it<20000:\n",
    "    it+=1\n",
    "    # tweak the solution\n",
    "    rn = random.random()\n",
    "    while rn > 0.5:\n",
    "        x_nuovo = swap_mutation(x_corrente.copy())\n",
    "        costo_nuovo = fitness(x_nuovo)\n",
    "        rn/=1.7\n",
    "    \n",
    "    # variation of fitness by changing sign\n",
    "    delta_costo = costo_nuovo[1]*(-1) - costo_corrente[1]*(-1) \n",
    "    #we are sure the solution after swap mutation is valid if the previous was it.\n",
    "        \n",
    "    if delta_costo < 0 or (random.random() < math.exp(-delta_costo / temperatura) and delta_costo!=0):\n",
    "        x_corrente = x_nuovo\n",
    "        costo_corrente = costo_nuovo\n",
    "        miglioramenti_recenti.append(True)\n",
    "        miglioramenti_recenti_stop.append(True)\n",
    "        if costo_corrente[1]*(-1) < best_cost[1]*(-1):\n",
    "            best_cost = costo_corrente\n",
    "            best_sol = x_corrente\n",
    "    else:\n",
    "        miglioramenti_recenti.append(False)\n",
    "        miglioramenti_recenti_stop.append(False)\n",
    "\n",
    "    if miglioramenti_recenti.count(True) > miglioramenti_richiesti:\n",
    "        temperatura *= tasso_riscaldamento  # more exploration\n",
    "    if miglioramenti_recenti.count(True) < miglioramenti_richiesti:\n",
    "        temperatura /= tasso_riscaldamento\n",
    "    \n",
    "    if miglioramenti_recenti_stop.count(True)==0: #stop condition\n",
    "        break\n",
    "\n",
    "fitness_new=fitness(best_sol)[1]*(-1)\n",
    "print(\"solution after SA is: \", fitness_new)\n"
   ]
  },
  {
   "cell_type": "markdown",
   "metadata": {},
   "source": [
    "With inversion mutation:"
   ]
  },
  {
   "cell_type": "code",
   "execution_count": 71,
   "metadata": {},
   "outputs": [
    {
     "name": "stdout",
     "output_type": "stream",
     "text": [
      "distanza finale prima di HC è  4857.080036214828\n",
      "solution after SA is:  4825.432135133487\n"
     ]
    }
   ],
   "source": [
    "segments = [\n",
    "    ({c1, c2}, float(DIST_MATRIX[c1, c2])) for c1, c2 in combinations(range(len(cities)), 2)\n",
    "]\n",
    "\n",
    "#select first solution:\n",
    "solution = []\n",
    "city = 4\n",
    "solution.append(city)\n",
    "visited = []\n",
    "visited.append(int(city))\n",
    "while len(visited)<len(cities):\n",
    "    c0, c1 = find_closest(segments, city, visited)\n",
    "    solution.append(c1)\n",
    "    visited.append(c1)\n",
    "    city=c1\n",
    "solution.append(solution[0])\n",
    "print(\"distanza finale prima di HC è \", fitness(solution)[1]*-1)\n",
    "\n",
    "\n",
    "#simulated annealing\n",
    "temperatura_iniziale = 100\n",
    "tasso_riscaldamento = 1.1 \n",
    "it=0\n",
    "\n",
    "#one out of five approach\n",
    "miglioramenti_recenti = deque(maxlen=5) \n",
    "miglioramenti_richiesti = 1  \n",
    "\n",
    "#stopping criteria:\n",
    "miglioramenti_recenti_stop = deque(maxlen=5000)\n",
    "miglioramenti_recenti_stop.append(True)\n",
    "\n",
    "# Initial solution: greedy one!\n",
    "x_corrente = solution\n",
    "costo_corrente = fitness(x_corrente)\n",
    "best_cost = costo_corrente\n",
    "best_sol = x_corrente\n",
    "\n",
    "temperatura = temperatura_iniziale\n",
    "while it<20000:\n",
    "    it+=1\n",
    "    # tweak the solution\n",
    "    rn = random.random()\n",
    "    while rn > 0.5:\n",
    "        x_nuovo = inversion_mutation(x_corrente.copy())\n",
    "        costo_nuovo = fitness(x_nuovo)\n",
    "        rn/=1.7\n",
    "    \n",
    "    # variation of fitness by changing sign\n",
    "    delta_costo = costo_nuovo[1]*(-1) - costo_corrente[1]*(-1) \n",
    "    #we are sure the solution after swap mutation is valid if the previous was it.\n",
    "        \n",
    "    if delta_costo < 0 or (random.random() < math.exp(-delta_costo / temperatura) and delta_costo!=0):\n",
    "        x_corrente = x_nuovo\n",
    "        costo_corrente = costo_nuovo\n",
    "        miglioramenti_recenti.append(True)\n",
    "        miglioramenti_recenti_stop.append(True)\n",
    "        if costo_corrente[1]*(-1) < best_cost[1]*(-1):\n",
    "            best_cost = costo_corrente\n",
    "            best_sol = x_corrente\n",
    "    else:\n",
    "        miglioramenti_recenti.append(False)\n",
    "        miglioramenti_recenti_stop.append(False)\n",
    "\n",
    "    if miglioramenti_recenti.count(True) > miglioramenti_richiesti:\n",
    "        temperatura *= tasso_riscaldamento  # more exploration\n",
    "    if miglioramenti_recenti.count(True) < miglioramenti_richiesti:\n",
    "        temperatura /= tasso_riscaldamento\n",
    "    \n",
    "    if miglioramenti_recenti_stop.count(True)==0: #stop condition\n",
    "        break\n",
    "\n",
    "fitness_new=fitness(best_sol)[1]*(-1)\n",
    "print(\"solution after SA is: \", fitness_new)\n"
   ]
  }
 ],
 "metadata": {
  "kernelspec": {
   "display_name": ".venv",
   "language": "python",
   "name": "python3"
  },
  "language_info": {
   "codemirror_mode": {
    "name": "ipython",
    "version": 3
   },
   "file_extension": ".py",
   "mimetype": "text/x-python",
   "name": "python",
   "nbconvert_exporter": "python",
   "pygments_lexer": "ipython3",
   "version": "3.12.6"
  }
 },
 "nbformat": 4,
 "nbformat_minor": 2
}
